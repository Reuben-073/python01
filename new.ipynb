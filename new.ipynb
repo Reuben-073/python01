{
 "cells": [
  {
   "cell_type": "code",
   "execution_count": 3,
   "id": "6017ec95",
   "metadata": {},
   "outputs": [
    {
     "name": "stdout",
     "output_type": "stream",
     "text": [
      "banana\n"
     ]
    }
   ],
   "source": [
    "# Accessing lists\n",
    "# count items using index\n",
    "# List items are indexed and you can access them by referring to the index number:\n",
    "thislist = [\"apple\", \"banana\", \"cherry\"]\n",
    "print(thislist[1])"
   ]
  },
  {
   "cell_type": "code",
   "execution_count": null,
   "id": "ce90e9d5",
   "metadata": {},
   "outputs": [
    {
     "name": "stdout",
     "output_type": "stream",
     "text": [
      "Brazil\n",
      "Mexico\n",
      "['Canada', 'Mexico']\n",
      "['USA', 'Canada', 'Mexico', 'Brazil']\n",
      "['USA', 'Canada', 'Mexico']\n"
     ]
    }
   ],
   "source": [
    "# Negative indexing\n",
    "# Negative indexing means start from the end\n",
    "# -1 refers to the last item, -2 refers to the second last item etc.\n",
    "\n",
    "countries= [\"USA\", \"Canada\", \"Mexico\", \"Brazil\"]\n",
    "print(countries[-1])  # Brazil\n",
    "print(countries[-2])  # Mexico\n",
    "\n",
    "# Range of Indexes\n",
    "# You can specify a range of indexes by specifying where to start and where to end the range.\n",
    "# When specifying a range, the return value will be a new list with the specified items.\n",
    "# The search will start at index -3 (included) and end at index -1 (not included).\n",
    "\n",
    "print(countries[-3:-1]) #Canada, Mexico\n",
    "\n",
    "# By leaving out the end value, the range will go on to the end of the list:\n",
    "\n",
    "print(countries[-4:]) #USA, Canada, Mexico, Brazil\n",
    "\n",
    "# By leaving out the start value, the range will start at the first item,\n",
    "# the specified index will not be included:\n",
    "\n",
    "print(countries[:-1]) #USA, Canada"
   ]
  },
  {
   "cell_type": "code",
   "execution_count": 23,
   "id": "38976973",
   "metadata": {},
   "outputs": [
    {
     "name": "stdout",
     "output_type": "stream",
     "text": [
      "is or was president\n"
     ]
    }
   ],
   "source": [
    "# membership operator: in\n",
    "# To determine if a specified item is present in a list use the in keyword:\n",
    "presidents = [\"Ruto\", \"Uhuru\", \"Kibaki\", \"Moi\"]\n",
    "if \"Uhuru\" in presidents:\n",
    "    print(\"is or was president\")\n",
    "else:\n",
    "    print(\"this is a random name\")"
   ]
  },
  {
   "cell_type": "code",
   "execution_count": 24,
   "id": "3de4848d",
   "metadata": {},
   "outputs": [
    {
     "name": "stdout",
     "output_type": "stream",
     "text": [
      "cherry\n"
     ]
    }
   ],
   "source": [
    "# What will be the result of the following syntax:\n",
    "mylist = ['apple', 'banana', 'cherry']\n",
    "print(mylist[-1])\n",
    "\n",
    "# cherry"
   ]
  },
  {
   "cell_type": "code",
   "execution_count": 25,
   "id": "0314e431",
   "metadata": {},
   "outputs": [
    {
     "name": "stdout",
     "output_type": "stream",
     "text": [
      "banana\n",
      "banana\n"
     ]
    }
   ],
   "source": [
    "# Print the second item in the fruits list.\n",
    "\n",
    "\n",
    "fruits = [\"apple\", \"banana\", \"cherry\"]\n",
    "print(fruits[1])\n",
    "print(fruits[-2])"
   ]
  },
  {
   "cell_type": "code",
   "execution_count": 27,
   "id": "7a5b4de7",
   "metadata": {},
   "outputs": [
    {
     "name": "stdout",
     "output_type": "stream",
     "text": [
      "['banana', 'cherry', 'orange']\n"
     ]
    }
   ],
   "source": [
    "# What will be the result of the following syntax:\n",
    "mylist = ['apple', 'banana', 'cherry', 'orange', 'kiwi']\n",
    "print(mylist[1:4])\n",
    "\n",
    "# ['banana', 'cherry', 'orange']\n",
    "# ['banana', 'cherry', 'orange', 'kiwi']\n",
    "# ['cherry', 'orange', 'kiwi']"
   ]
  },
  {
   "cell_type": "code",
   "execution_count": 31,
   "id": "54974b96",
   "metadata": {},
   "outputs": [
    {
     "name": "stdout",
     "output_type": "stream",
     "text": [
      "['cherry', 'orange', 'kiwi']\n"
     ]
    }
   ],
   "source": [
    "# Use a range of indexes to print the third, fourth, and fifth item in the list.\n",
    "\n",
    "fruits = [\"apple\", \"banana\", \"cherry\", \"orange\", \"kiwi\", \"melon\", \"mango\"]\n",
    "print(fruits[2:5])"
   ]
  },
  {
   "cell_type": "code",
   "execution_count": 32,
   "id": "bd1cac3d",
   "metadata": {},
   "outputs": [
    {
     "name": "stdout",
     "output_type": "stream",
     "text": [
      "['Kitui', 'Kajiado', 'Makueni', 'Loresho', 'Limuru']\n"
     ]
    }
   ],
   "source": [
    "# Changing list items\n",
    "# To change the value of a specific item, refer to the index number:\n",
    "towns = [\"Kitui\", \"Mwingi\", \"Makueni\", \"Loresho\", \"Limuru\"]\n",
    "towns[1] = \"Kajiado\"\n",
    "print(towns)"
   ]
  },
  {
   "cell_type": "code",
   "execution_count": null,
   "id": "9a4cf0cd",
   "metadata": {},
   "outputs": [
    {
     "name": "stdout",
     "output_type": "stream",
     "text": [
      "['Cumulonimbus', 'Nimbostratus', 'Cirrus', 'Nimbus', 'Altostratus']\n"
     ]
    }
   ],
   "source": [
    "# To change the value of items within a specific range, define a list with the new values, \n",
    "# and refer to the range of index numbers where you want to insert the new values:\n",
    "clouds = [\"Cumulus\", \"Stratus\", \"Cirrus\", \"Nimbus\", \"Altostratus\"]\n",
    "clouds[0:2] = [\"Cumulonimbus\", \"Nimbostratus\"]\n",
    "print(clouds)"
   ]
  },
  {
   "cell_type": "code",
   "execution_count": null,
   "id": "087fe6f4",
   "metadata": {},
   "outputs": [
    {
     "name": "stdout",
     "output_type": "stream",
     "text": [
      "['Kenya', 'Uganda', 'Guinea', 'South Africa', 'Rwanda']\n"
     ]
    }
   ],
   "source": [
    "# If you insert more items than you replace, the new items will be inserted where you specified,\n",
    "# and the remaining items will move accordingly:\n",
    "# list changeable\n",
    "# Note: The length of the list will change when the number of items inserted \n",
    "# does not match the number of items replaced.\n",
    "states = [\"Kenya\", \"Uganda\", \"Tanzania\", \"Rwanda\"]\n",
    "states[2:3] = [\"Guinea\", \"South Africa\"]\n",
    "print(states)"
   ]
  },
  {
   "cell_type": "code",
   "execution_count": 45,
   "id": "ee25b1e4",
   "metadata": {},
   "outputs": [
    {
     "name": "stdout",
     "output_type": "stream",
     "text": [
      "['Mansion', 'Grannary']\n"
     ]
    }
   ],
   "source": [
    "# Note: The length of the list will change when the number of items \n",
    "# inserted does not match the number of items replaced.\n",
    "houses = [\"Bungalow\", \"Duplex\", \"Apartment\", \"Grannary\"]\n",
    "houses[0:3] = [\"Mansion\"]\n",
    "print(houses)"
   ]
  },
  {
   "cell_type": "code",
   "execution_count": null,
   "id": "5b4dd686",
   "metadata": {},
   "outputs": [],
   "source": [
    "# Inserting a new item in a list- use the method insert()- also specify the index\n",
    "sublocations = [\"Kalua\", \"Mutito\", \"Kaliku\", \"Sombe\", \"Mwitika\"]\n",
    "sublocation\n",
    "\n"
   ]
  }
 ],
 "metadata": {
  "kernelspec": {
   "display_name": "Python 3",
   "language": "python",
   "name": "python3"
  },
  "language_info": {
   "codemirror_mode": {
    "name": "ipython",
    "version": 3
   },
   "file_extension": ".py",
   "mimetype": "text/x-python",
   "name": "python",
   "nbconvert_exporter": "python",
   "pygments_lexer": "ipython3",
   "version": "3.13.1"
  }
 },
 "nbformat": 4,
 "nbformat_minor": 5
}
