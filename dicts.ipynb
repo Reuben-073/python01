{
 "cells": [
  {
   "cell_type": "code",
   "execution_count": 1,
   "id": "22a1078e",
   "metadata": {},
   "outputs": [
    {
     "name": "stdout",
     "output_type": "stream",
     "text": [
      "Adam\n"
     ]
    }
   ],
   "source": [
    "# DICTIONARY\n",
    "# consists of keys and values\n",
    "# keys are unique, values can be duplicated\n",
    "# keys can be strings, numbers, or tuples\n",
    "inform = {\"name\": \"Adam\", \"person\": \"Adam\", \"age\": 28, \"hobby\": \"coding\"}\n",
    "print(inform[\"name\"])\n",
    "# Dictionary items are ordered, changeable, and do not allow duplicates."
   ]
  },
  {
   "cell_type": "code",
   "execution_count": null,
   "id": "20845f51",
   "metadata": {},
   "outputs": [
    {
     "name": "stdout",
     "output_type": "stream",
     "text": [
      "['Kioko', 'Kimani', 'Chebet']\n"
     ]
    }
   ],
   "source": [
    "# get(), keys(), values(), items(), membership(in, not in)\n",
    "# get() returns the value for the specified key if key is in dictionary\n",
    "thisdict = {\n",
    "    \"money\": 2000,\n",
    "    \"car\": \"BMW\",\n",
    "    \"names\": [\"Kioko\", \"Kimani\", \"Chebet\"],\n",
    "    \"ages\": (25, 30, 22),\n",
    "    \"is_married\": True,\n",
    "}\n",
    "print(thisdict.get(\"names\"))\n",
    "# invitelist = thisdict.get(\"names\")\n",
    "# print(invitelist)"
   ]
  },
  {
   "cell_type": "code",
   "execution_count": 3,
   "id": "2c5533b4",
   "metadata": {},
   "outputs": [
    {
     "name": "stdout",
     "output_type": "stream",
     "text": [
      "dict_keys(['money', 'car', 'names', 'ages', 'is_married'])\n",
      "{'money': 2000, 'car': 'BMW', 'names': ['Kioko', 'Kimani', 'Chebet'], 'ages': (25, 30, 22), 'is_married': True, 'spouses': ['Jane', 'Mary', 'John']}\n",
      "dict_keys(['money', 'car', 'names', 'ages', 'is_married', 'spouses'])\n"
     ]
    }
   ],
   "source": [
    "# key() returns a view object that displays a list of all the keys in the dictionary  \n",
    "thisdict = {\n",
    "    \"money\": 2000,\n",
    "    \"car\": \"BMW\",\n",
    "    \"names\": [\"Kioko\", \"Kimani\", \"Chebet\"],\n",
    "    \"ages\": (25, 30, 22),\n",
    "    \"is_married\": True,\n",
    "}\n",
    "print(thisdict.keys())\n",
    "thisdict[\"spouses\"] = [\"Jane\", \"Mary\", \"John\"]\n",
    "print(thisdict)\n",
    "print(thisdict.keys())"
   ]
  },
  {
   "cell_type": "code",
   "execution_count": 9,
   "id": "321f755d",
   "metadata": {},
   "outputs": [
    {
     "name": "stdout",
     "output_type": "stream",
     "text": [
      "dict_values([2000, 'BMW', ['Kioko', 'Kimani', 'Chebet'], (25, 30, 22), True])\n",
      "dict_values([2000, 'BMW', ['Kioko', 'Kimani', 'Chebet'], (25, 30, 22), True, 2020])\n"
     ]
    }
   ],
   "source": [
    "# values() returns a view object that displays a list of all the values in the dictionary\n",
    "thisdicts = {\n",
    "    \"money\": 2000,\n",
    "    \"car\": \"BMW\",\n",
    "    \"names\": [\"Kioko\", \"Kimani\", \"Chebet\"],\n",
    "    \"ages\": (25, 30, 22),\n",
    "    \"is_married\": True,\n",
    "}\n",
    "print(thisdicts.values())\n",
    "# x= thisdict.values()\n",
    "# print(x)\n",
    "thisdicts[\"year\"] = 2020\n",
    "print(thisdicts.values())\n"
   ]
  },
  {
   "cell_type": "code",
   "execution_count": 15,
   "id": "49511efb",
   "metadata": {},
   "outputs": [
    {
     "name": "stdout",
     "output_type": "stream",
     "text": [
      "dict_items([('money', 2000), ('car', 'BMW'), ('names', ['Kioko', 'Kimani', 'Chebet']), ('ages', (25, 30, 22)), ('is_married', True)])\n",
      "dict_items([('money', 2000), ('car', 'BMW'), ('names', ['Kioko', 'Kimani', 'Chebet']), ('ages', (25, 30, 22)), ('is_married', True), ('color', 'golden')])\n"
     ]
    }
   ],
   "source": [
    "# items() returns a view object that displays a list of a dictionary's key-value pairs\n",
    "# The items() method will return each item in a dictionary, as tuples in a list.\n",
    "thisdictss = {\n",
    "    \"money\": 2000,\n",
    "    \"car\": \"BMW\",\n",
    "    \"names\": [\"Kioko\", \"Kimani\", \"Chebet\"],\n",
    "    \"ages\": (25, 30, 22),\n",
    "    \"is_married\": True,\n",
    "}\n",
    "print(thisdictss.items())\n",
    "thisdictss[\"color\"] = \"golden\"\n",
    "print(thisdictss.items())"
   ]
  },
  {
   "cell_type": "code",
   "execution_count": 13,
   "id": "c4a1edfc",
   "metadata": {},
   "outputs": [
    {
     "name": "stdout",
     "output_type": "stream",
     "text": [
      "dict_items([('money', 2000)])\n"
     ]
    }
   ],
   "source": [
    "thisdictss = {\n",
    "    \"money\": 2000\n",
    "}\n",
    "print(thisdictss.items())"
   ]
  },
  {
   "cell_type": "code",
   "execution_count": 18,
   "id": "91d0bf13",
   "metadata": {},
   "outputs": [
    {
     "name": "stdout",
     "output_type": "stream",
     "text": [
      "Yes, the car exists in the dictionary\n"
     ]
    }
   ],
   "source": [
    "# membership operator\n",
    "thisdictsss = {\n",
    "    \"money\": 2000,\n",
    "    \"car\": \"BMW\",\n",
    "    \"names\": [\"Kioko\", \"Kimani\", \"Chebet\"],\n",
    "    \"ages\": (25, 30, 22),\n",
    "    \"is_married\": True,\n",
    "}\n",
    "if \"car\" in thisdictsss:\n",
    "    print(\"Yes, the car exists in the dictionary\")\n",
    "else:\n",
    "    print(\"No, the car does not exist in the dictionary\")"
   ]
  },
  {
   "cell_type": "code",
   "execution_count": null,
   "id": "cb5aae55",
   "metadata": {},
   "outputs": [],
   "source": [
    "# Exercise ?\n",
    "# True or False. You can access item values by referring to the key name.\n",
    "\n",
    "True\n",
    "# False"
   ]
  },
  {
   "cell_type": "code",
   "execution_count": 19,
   "id": "bb3c2a9d",
   "metadata": {},
   "outputs": [
    {
     "name": "stdout",
     "output_type": "stream",
     "text": [
      "Mustang\n"
     ]
    }
   ],
   "source": [
    "# Use the get method to print the value of the \"model\" key of the car dictionary.\n",
    "car =\t{\n",
    "  \"brand\": \"Ford\",\n",
    "  \"model\": \"Mustang\",\n",
    "  \"year\": 1964\n",
    "}\n",
    "print(car.get(\"model\"))"
   ]
  },
  {
   "cell_type": "code",
   "execution_count": 20,
   "id": "864c76c1",
   "metadata": {},
   "outputs": [
    {
     "name": "stdout",
     "output_type": "stream",
     "text": [
      "fruit\n"
     ]
    }
   ],
   "source": [
    "# Consider the following code:\n",
    "x = {'type' : 'fruit', 'name' : 'banana'}\n",
    "print(x['type'])\n",
    "# What will be the printed result?\n",
    "\n",
    "# banana\n",
    "# fruit\n",
    "# type = 'fruit'"
   ]
  },
  {
   "cell_type": "code",
   "execution_count": 21,
   "id": "34296939",
   "metadata": {},
   "outputs": [
    {
     "name": "stdout",
     "output_type": "stream",
     "text": [
      "{'names': ['Kioko', 'Kimani', 'Chebet'], 'ages': (25, 30, 22), 'is_married': True, 'hobby': 'reading', 'year': 2020}\n"
     ]
    }
   ],
   "source": [
    "# to change items in a dictionary use update() method or use the key to change the value\n",
    "# change using key value\n",
    "grouping = {\n",
    "    \"names\": [\"Kioko\", \"Kimani\", \"Chebet\"],\n",
    "    \"ages\": (25, 30, 22),\n",
    "    \"is_married\": True,\n",
    "    \"hobby\": \"coding\",\n",
    "    \"year\": 2020\n",
    "}\n",
    "grouping[\"hobby\"] = \"reading\"\n",
    "print(grouping)"
   ]
  },
  {
   "cell_type": "code",
   "execution_count": 23,
   "id": "28c297de",
   "metadata": {},
   "outputs": [
    {
     "name": "stdout",
     "output_type": "stream",
     "text": [
      "{'names': ['Kioko', 'Kimani', 'Chebet'], 'ages': (25, 30, 22), 'is_married': True, 'hobby': 'reading', 'year': 2020}\n"
     ]
    }
   ],
   "source": [
    "# change using the update() method\n",
    "grouping = {\n",
    "    \"names\": [\"Kioko\", \"Kimani\", \"Chebet\"],\n",
    "    \"ages\": (25, 30, 22),\n",
    "    \"is_married\": True,\n",
    "    \"hobby\": \"coding\",\n",
    "    \"year\": 2020,\n",
    "}\n",
    "grouping.update({\"hobby\": \"reading\"})\n",
    "print(grouping)"
   ]
  },
  {
   "cell_type": "code",
   "execution_count": null,
   "id": "69351491",
   "metadata": {},
   "outputs": [],
   "source": [
    "# Exercise?\n",
    "# Consider the following code:\n",
    "x = {'type' : 'fruit', 'name' : 'banana'}\n",
    "# What is a correct syntax for changing the type from fruit to berry?\n",
    "# x{'type'} = 'berry'\n",
    "x['type'] = 'berry'\n",
    "# x.get('type') = 'berry'"
   ]
  },
  {
   "cell_type": "code",
   "execution_count": 24,
   "id": "22cd5a27",
   "metadata": {},
   "outputs": [
    {
     "name": "stdout",
     "output_type": "stream",
     "text": [
      "{'brand': 'Ford', 'model': 'Mustang', 'year': 2020}\n"
     ]
    }
   ],
   "source": [
    "# Change the \"year\" value from 1964 to 2020.\n",
    "car =\t{\n",
    "  \"brand\": \"Ford\",\n",
    "  \"model\": \"Mustang\",\n",
    "  \"year\": 1964\n",
    "}\n",
    "car[\"year\"] = 2020\n",
    "print(car)"
   ]
  },
  {
   "cell_type": "code",
   "execution_count": null,
   "id": "f0ad77a3",
   "metadata": {},
   "outputs": [],
   "source": [
    "# Consider the following code:\n",
    "# x = {'type' : 'fruit', 'name' : 'banana'}\n",
    "# What is a correct syntax for changing the name from banana to apple?\n",
    "\n",
    "x.update({'name': 'apple'})\n",
    "# x.update('name' = 'apple')\n",
    "# x.update('name','apple')"
   ]
  },
  {
   "cell_type": "code",
   "execution_count": 25,
   "id": "ad4e7840",
   "metadata": {},
   "outputs": [
    {
     "name": "stdout",
     "output_type": "stream",
     "text": [
      "{'type': 'fruit', 'name': 'banana', 'color': 'yellow'}\n"
     ]
    }
   ],
   "source": [
    "# adding items to a dictionary using update() method\n",
    "x = {\n",
    "    \"type\": \"fruit\", \n",
    "    \"name\": \"banana\"\n",
    "    }\n",
    "x.update({\"color\": \"yellow\"})\n",
    "print(x)"
   ]
  },
  {
   "cell_type": "code",
   "execution_count": 26,
   "id": "0efa2b1a",
   "metadata": {},
   "outputs": [
    {
     "name": "stdout",
     "output_type": "stream",
     "text": [
      "{'brand': 'Ford', 'model': 'Mustang', 'year': 1964, 'color': 'red'}\n"
     ]
    }
   ],
   "source": [
    "# Add the key/value pair \"color\" : \"red\"\n",
    "# to the car dictionary.\n",
    "car =\t{\n",
    "  \"brand\": \"Ford\",\n",
    "  \"model\": \"Mustang\",\n",
    "  \"year\": 1964\n",
    "}\n",
    "car[\"color\"] = \"red\"\n",
    "print(car)"
   ]
  },
  {
   "cell_type": "code",
   "execution_count": null,
   "id": "d46278f4",
   "metadata": {},
   "outputs": [
    {
     "name": "stdout",
     "output_type": "stream",
     "text": [
      "{'brand': 'Ford', 'year': 1964}\n"
     ]
    }
   ],
   "source": [
    "# removing items in a dictionary\n",
    "# pop() popitem() del clear()\n",
    "\n",
    "# pop() removes the item with the specified key name\n",
    "\n",
    "thisdict = {\n",
    "    \"brand\": \"Ford\", \n",
    "    \"model\": \"Mustang\", \n",
    "    \"year\": 1964}\n",
    "thisdict.pop(\"model\")\n",
    "print(thisdict)"
   ]
  },
  {
   "cell_type": "code",
   "execution_count": null,
   "id": "81188619",
   "metadata": {},
   "outputs": [
    {
     "name": "stdout",
     "output_type": "stream",
     "text": [
      "{'brand': 'Ford', 'model': 'Mustang'}\n"
     ]
    }
   ],
   "source": [
    "# popitem() removes the last inserted key-value pair\n",
    "\n",
    "thisdict = {\n",
    "    \"brand\": \"Ford\", \n",
    "    \"model\": \"Mustang\", \n",
    "    \"year\": 1964\n",
    "    }\n",
    "thisdict.popitem()\n",
    "print(thisdict)"
   ]
  },
  {
   "cell_type": "code",
   "execution_count": 34,
   "id": "f9316ae3",
   "metadata": {},
   "outputs": [
    {
     "name": "stdout",
     "output_type": "stream",
     "text": [
      "{'model': 'Mustang', 'year': 1964}\n"
     ]
    }
   ],
   "source": [
    "# The del keyword removes the item with the specified key name\n",
    "thisdictr = {\n",
    "    \"brand\": \"Ford\", \n",
    "    \"model\": \"Mustang\", \n",
    "    \"year\": 1964\n",
    "}\n",
    "# del thisdictr \n",
    "# this will delete the entire dictionary\n",
    "del thisdictr[\"brand\"]\n",
    "print(thisdictr)\n"
   ]
  },
  {
   "cell_type": "code",
   "execution_count": 35,
   "id": "08e55493",
   "metadata": {},
   "outputs": [],
   "source": [
    "# clear() removes all the items in the dictionary\n",
    "carmodels = {\n",
    "    \"brand\": \"Ford\",\n",
    "    \"year\" : 1964,\n",
    "    \"price\": 20000.98\n",
    "}\n",
    "carmodels.clear()"
   ]
  },
  {
   "cell_type": "code",
   "execution_count": null,
   "id": "868226d2",
   "metadata": {},
   "outputs": [],
   "source": [
    "# Exercise?\n",
    "# What is a dictionary method for removing an item from a dictionary?\n",
    "# delete()\n",
    "# remove()\n",
    "pop()"
   ]
  },
  {
   "cell_type": "code",
   "execution_count": 37,
   "id": "78da0bc3",
   "metadata": {},
   "outputs": [
    {
     "name": "stdout",
     "output_type": "stream",
     "text": [
      "{'brand': 'Ford', 'year': 1964}\n"
     ]
    }
   ],
   "source": [
    "# Use the pop method to remove \"model\" from the car dictionary.\n",
    "car =\t{\n",
    "  \"brand\": \"Ford\",\n",
    "  \"model\": \"Mustang\",\n",
    "  \"year\": 1964\n",
    "}\n",
    "car.pop(\"model\")\n",
    "print(car)"
   ]
  },
  {
   "cell_type": "code",
   "execution_count": 38,
   "id": "afce10bb",
   "metadata": {},
   "outputs": [
    {
     "name": "stdout",
     "output_type": "stream",
     "text": [
      "{}\n"
     ]
    }
   ],
   "source": [
    "# Use the clear method to empty the car dictionary.\n",
    "\n",
    "car =\t{\n",
    "  \"brand\": \"Ford\",\n",
    "  \"model\": \"Mustang\",\n",
    "  \"year\": 1964\n",
    "}\n",
    "car.clear()\n",
    "print(car)"
   ]
  },
  {
   "cell_type": "code",
   "execution_count": null,
   "id": "06c6c510",
   "metadata": {},
   "outputs": [
    {
     "name": "stdout",
     "output_type": "stream",
     "text": [
      "names\n",
      "ages\n",
      "is_married\n",
      "hobby\n",
      "year\n"
     ]
    }
   ],
   "source": [
    "# looping\n",
    "#print all key names in the dictionary\n",
    "grouping = {\n",
    "    \"names\": [\"Kioko\", \"Kimani\", \"Chebet\"],\n",
    "    \"ages\": (25, 30, 22),\n",
    "    \"is_married\": True,\n",
    "    \"hobby\": \"coding\",\n",
    "    \"year\": 2020,\n",
    "}\n",
    "for x in grouping:\n",
    "    print(x)"
   ]
  },
  {
   "cell_type": "code",
   "execution_count": 40,
   "id": "e00363a2",
   "metadata": {},
   "outputs": [
    {
     "name": "stdout",
     "output_type": "stream",
     "text": [
      "['Kioko', 'Kimani', 'Chebet']\n",
      "(25, 30, 22)\n",
      "True\n",
      "coding\n",
      "2020\n"
     ]
    }
   ],
   "source": [
    "# we want to use the for loop to print the values\n",
    "grouping = {\n",
    "    \"names\": [\"Kioko\", \"Kimani\", \"Chebet\"],\n",
    "    \"ages\": (25, 30, 22),\n",
    "    \"is_married\": True,\n",
    "    \"hobby\": \"coding\",\n",
    "    \"year\": 2020,\n",
    "}\n",
    "for x in grouping:\n",
    "    print(grouping[x])"
   ]
  },
  {
   "cell_type": "code",
   "execution_count": 41,
   "id": "60ce8fec",
   "metadata": {},
   "outputs": [
    {
     "name": "stdout",
     "output_type": "stream",
     "text": [
      "names\n",
      "ages\n",
      "is_married\n",
      "hobby\n",
      "year\n"
     ]
    }
   ],
   "source": [
    "# for loop using keys()\n",
    "grouping = {\n",
    "    \"names\": [\"Kioko\", \"Kimani\", \"Chebet\"],\n",
    "    \"ages\": (25, 30, 22),\n",
    "    \"is_married\": True,\n",
    "    \"hobby\": \"coding\",\n",
    "    \"year\": 2020,\n",
    "}\n",
    "for x in grouping.keys():\n",
    "    print(x)"
   ]
  },
  {
   "cell_type": "code",
   "execution_count": 42,
   "id": "0ead631e",
   "metadata": {},
   "outputs": [
    {
     "name": "stdout",
     "output_type": "stream",
     "text": [
      "['Kioko', 'Kimani', 'Chebet']\n",
      "(25, 30, 22)\n",
      "True\n",
      "coding\n",
      "2020\n"
     ]
    }
   ],
   "source": [
    "# for loop using values()\n",
    "grouping = {\n",
    "    \"names\": [\"Kioko\", \"Kimani\", \"Chebet\"],\n",
    "    \"ages\": (25, 30, 22),\n",
    "    \"is_married\": True,\n",
    "    \"hobby\": \"coding\",\n",
    "    \"year\": 2020,\n",
    "}\n",
    "for x in grouping.values():\n",
    "    print(x)"
   ]
  },
  {
   "cell_type": "code",
   "execution_count": 45,
   "id": "4dafd96d",
   "metadata": {},
   "outputs": [
    {
     "name": "stdout",
     "output_type": "stream",
     "text": [
      "names\" : \"['Kioko', 'Kimani', 'Chebet']\n",
      "ages\" : \"(25, 30, 22)\n",
      "is_married\" : \"True\n",
      "hobby\" : \"coding\n",
      "year\" : \"2020\n"
     ]
    }
   ],
   "source": [
    "# for loop using items()- to return both keys and values\n",
    "grouping = {\n",
    "    \"names\": [\"Kioko\", \"Kimani\", \"Chebet\"],\n",
    "    \"ages\": (25, 30, 22),\n",
    "    \"is_married\": True,\n",
    "    \"hobby\": \"coding\",\n",
    "    \"year\": 2020,\n",
    "}\n",
    "for x,y in grouping.items():\n",
    "    print(f'{x}\" : \"{y}')"
   ]
  },
  {
   "cell_type": "code",
   "execution_count": 46,
   "id": "e96a0a5c",
   "metadata": {},
   "outputs": [
    {
     "name": "stdout",
     "output_type": "stream",
     "text": [
      "fruit\n",
      "apple\n"
     ]
    }
   ],
   "source": [
    "# Exercise?\n",
    "# What is a correct syntax for looping through the values of this dictionary:\n",
    "x = {'type' : 'fruit', 'name' : 'apple'}\n",
    "\n",
    "\n",
    "for y in x.values():\n",
    "  print(y)\n",
    "# for y in x:\n",
    "#   print(y)\n",
    "# for y in x:\n",
    "#   print(y.value())"
   ]
  },
  {
   "cell_type": "code",
   "execution_count": 47,
   "id": "8fe5c76b",
   "metadata": {},
   "outputs": [
    {
     "name": "stdout",
     "output_type": "stream",
     "text": [
      "type fruit\n",
      "name apple\n"
     ]
    }
   ],
   "source": [
    "# What is a correct syntax for looping through the keys AND values of this dictionary:\n",
    "x = {'type' : 'fruit', 'name' : 'apple'}\n",
    "\n",
    "# for y, z in x:\n",
    "#   print(y, z)\n",
    "for y, z in x.items():\n",
    "  print(y, z)\n",
    "# for (y, z) in x:\n",
    "#   print(y, z)"
   ]
  },
  {
   "cell_type": "code",
   "execution_count": 48,
   "id": "e54c927c",
   "metadata": {},
   "outputs": [
    {
     "name": "stdout",
     "output_type": "stream",
     "text": [
      "type\n",
      "name\n"
     ]
    }
   ],
   "source": [
    "# What is a correct syntax for looping through the keys of this dictionary:\n",
    "x = {'type' : 'fruit', 'name' : 'apple'}\n",
    "\n",
    "# for y in x.names():\n",
    "#   print(y)\n",
    "for y in x.keys():\n",
    "  print(y)\n",
    "# for y in x.types():\n",
    "#   print(y)"
   ]
  },
  {
   "cell_type": "code",
   "execution_count": null,
   "id": "3791950b",
   "metadata": {},
   "outputs": [
    {
     "name": "stdout",
     "output_type": "stream",
     "text": [
      "{'name': 'Adam', 'age': 30, 'hobby': 'coding'}\n",
      "{'name': 'Adam', 'age': 30, 'hobby': 'coding'}\n"
     ]
    }
   ],
   "source": [
    "# use the .copy() method to create a copy of a dictionary\n",
    "# you cant copy a dictionary using the assignment operator dict2 =dict1\n",
    "original_dict = {\n",
    "    \"name\": \"Adam\",\n",
    "    \"age\": 28,\n",
    "    \"hobby\": \"coding\"\n",
    "}\n",
    "second_dict = original_dict\n",
    "# print(second_dict)\n",
    "\n",
    "second_dict[\"age\"] = 30\n",
    "print(second_dict)\n",
    "print(original_dict)  # This will also show the updated age because both variables point to the same dictionary"
   ]
  },
  {
   "cell_type": "code",
   "execution_count": 54,
   "id": "d19b6f06",
   "metadata": {},
   "outputs": [
    {
     "name": "stdout",
     "output_type": "stream",
     "text": [
      "{'name': 'Adam', 'age': 30, 'hobby': 'coding'}\n",
      "{'name': 'Adam', 'age': 28, 'hobby': 'coding'}\n"
     ]
    }
   ],
   "source": [
    "original_dict = {\n",
    "    \"name\": \"Adam\", \n",
    "    \"age\": 28, \n",
    "    \"hobby\": \"coding\"\n",
    "    }\n",
    "second_dict = original_dict.copy()\n",
    "second_dict[\"age\"] = 30\n",
    "print(second_dict)  # This will show the updated age\n",
    "print(original_dict)  # This will still show the original age because second_dict is a copy"
   ]
  },
  {
   "cell_type": "code",
   "execution_count": null,
   "id": "afca1a95",
   "metadata": {},
   "outputs": [],
   "source": [
    "# Exercise?\n",
    "# What is a correct syntax for making a copy of this dictionary:\n",
    "x = {'type' : 'fruit', 'name' : 'apple'}\n",
    "\n",
    "# y = x.clone()\n",
    "# y = x.duplicate()\n",
    "y = x.copy()"
   ]
  },
  {
   "cell_type": "code",
   "execution_count": null,
   "id": "fdc99c81",
   "metadata": {},
   "outputs": [],
   "source": [
    "# nested dictionaries\n",
    "names = {\n",
    "    \"child1\": {\n",
    "        \"name\": \"Kioko\",\n",
    "        \"age\": 25\n",
    "    },\n",
    "    \"child2\": {\n",
    "        \"name\": \"Kimani\",\n",
    "        \"age\": 30\n",
    "    },\n",
    "    \"child3\":{\n",
    "        \"name\": \"Chebet\",\n",
    "        \"age\": 22\n",
    "    }\n",
    "}"
   ]
  },
  {
   "cell_type": "code",
   "execution_count": null,
   "id": "dfd7e0a4",
   "metadata": {},
   "outputs": [],
   "source": [
    "child1 = {\n",
    "    \"name\": \"Emil\", \n",
    "    \"year\": 2004\n",
    "    }\n",
    "child2 = {\n",
    "    \"name\": \"Tobias\", \n",
    "    \"year\": 2007\n",
    "    }\n",
    "child3 = {\n",
    "    \"name\": \"Linus\", \n",
    "    \"year\": 2011\n",
    "    }\n",
    "\n",
    "myfamily = {\n",
    "    \"child1\": child1, \n",
    "    \"child2\": child2,     \n",
    "    \"child3\": child3\n",
    "    }"
   ]
  },
  {
   "cell_type": "code",
   "execution_count": null,
   "id": "ee1c0e7c",
   "metadata": {},
   "outputs": [],
   "source": [
    "# One of these codes is NOT a correct way of making a copy of a dictionary named x, which one:\n",
    "\n",
    "# y = dict(x)\n",
    "y = x.duplicate()\n",
    "# y = x.copy()"
   ]
  },
  {
   "cell_type": "code",
   "execution_count": 57,
   "id": "aad204bb",
   "metadata": {},
   "outputs": [
    {
     "name": "stdout",
     "output_type": "stream",
     "text": [
      "May\n"
     ]
    }
   ],
   "source": [
    "# Exercise?\n",
    "# Consider this syntax:\n",
    "a = {'name' : 'John', 'age' : '20'}\n",
    "b = {'name' : 'May', 'age' : '23'}\n",
    "customers = {'c1' : a, 'c2' : b}\n",
    "# what will be a correct syntax for printing the name 'May'?\n",
    "\n",
    "\n",
    "print(customers['c2']['name'])\n",
    "# print(customers.c2.b['name'])\n",
    "# print(customers.c2.name)"
   ]
  }
 ],
 "metadata": {
  "kernelspec": {
   "display_name": "Python 3",
   "language": "python",
   "name": "python3"
  },
  "language_info": {
   "codemirror_mode": {
    "name": "ipython",
    "version": 3
   },
   "file_extension": ".py",
   "mimetype": "text/x-python",
   "name": "python",
   "nbconvert_exporter": "python",
   "pygments_lexer": "ipython3",
   "version": "3.12.8"
  }
 },
 "nbformat": 4,
 "nbformat_minor": 5
}
