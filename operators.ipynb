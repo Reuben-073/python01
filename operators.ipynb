{
 "cells": [
  {
   "cell_type": "code",
   "execution_count": 3,
   "id": "8160b9cd",
   "metadata": {},
   "outputs": [],
   "source": [
    "a=8\n",
    "if a>9:\n",
    "    print('A is Greater than 9')"
   ]
  },
  {
   "cell_type": "code",
   "execution_count": null,
   "id": "217c4d0e",
   "metadata": {},
   "outputs": [],
   "source": [
    "\n",
    "count=int(input('how many numbers do you want to enter?'))\n",
    "even_sum=0\n",
    "odd_sum=0\n",
    "\n",
    "\n",
    "for i  in range(1,61):\n",
    "    number=int(input(f'Enter number {i + 1}:'))\n",
    "    if number % 2==0:\n",
    "        even_sum +=number\n",
    "    else:\n",
    "        odd_sum +=number\n",
    "    print('sum of even numbers:',even_sum)\n",
    "    print('sum of odd numbers:', odd_sum))"
   ]
  },
  {
   "cell_type": "code",
   "execution_count": null,
   "id": "907b21ae",
   "metadata": {},
   "outputs": [],
   "source": [
    "a=10\n",
    "count=int(input('how many numbers do you want to enter?'))\n",
    "even_sum=0\n",
    "odd_sum=0\n",
    "\n",
    "\n",
    "for i  in range(1,61):\n",
    "    number=int(input(f'Enter number {i + 1}:'))\n",
    "    if number % 2==0:\n",
    "        even_sum +=number\n",
    "    else:\n",
    "        odd_sum +=number\n",
    "    print('sum of even numbers:',even_sum)\n",
    "    print('sum of odd numbers:', odd_sum)"
   ]
  },
  {
   "cell_type": "code",
   "execution_count": 1,
   "id": "80ee8fa0",
   "metadata": {},
   "outputs": [
    {
     "name": "stdout",
     "output_type": "stream",
     "text": [
      "its okay\n",
      "its okay\n",
      "its okay\n",
      "its okay\n",
      "its okay\n",
      "its okay\n"
     ]
    }
   ],
   "source": [
    "i=1\n",
    "while i<=6:\n",
    "    print('its okay')\n",
    "    i=i+1"
   ]
  },
  {
   "cell_type": "code",
   "execution_count": null,
   "id": "4f2613ba",
   "metadata": {},
   "outputs": [
    {
     "name": "stdout",
     "output_type": "stream",
     "text": [
      "fri class ends now\n",
      "fri class ends now\n",
      "fri class ends now\n"
     ]
    }
   ],
   "source": [
    "i=1\n",
    "while i<=3:\n",
    "    print('fri class ends ', end = '')\n",
    "    j=1\n",
    "    while j<=1:\n",
    "     print('now',end='')\n",
    "     j=j+1\n",
    "    i=i+1"
   ]
  },
  {
   "cell_type": "code",
   "execution_count": 14,
   "id": "306df850",
   "metadata": {},
   "outputs": [
    {
     "name": "stdout",
     "output_type": "stream",
     "text": [
      "it's Reuben  Maingi\n",
      " Maingi\n"
     ]
    }
   ],
   "source": [
    "nm=8\n",
    "while nm <=12:\n",
    "    print('it\\'s Reuben ' ,end='')\n",
    "    b=8\n",
    "    while b <=12:\n",
    "     print(' Maingi')\n",
    "     b=b+4\n",
    "     nm=nm+4\n",
    "\n"
   ]
  },
  {
   "cell_type": "code",
   "execution_count": 2,
   "id": "d800ecbd",
   "metadata": {},
   "outputs": [
    {
     "name": "stdout",
     "output_type": "stream",
     "text": [
      "1\n",
      "2\n",
      "3\n",
      "4\n",
      "5\n",
      "6\n",
      "7\n",
      "8\n",
      "9\n",
      "10\n"
     ]
    }
   ],
   "source": [
    "i=1\n",
    "while(i<=10):\n",
    "    print(i)\n",
    "    i=i+1"
   ]
  },
  {
   "cell_type": "code",
   "execution_count": 14,
   "id": "1f028c4e",
   "metadata": {},
   "outputs": [
    {
     "name": "stdout",
     "output_type": "stream",
     "text": [
      "iteration 2\n",
      "iteration 3\n",
      "iteration 4\n",
      "iteration 5\n",
      "iteration 6\n",
      "iteration 7\n",
      "iteration 8\n",
      "iteration 9\n",
      "while loop terminated\n"
     ]
    }
   ],
   "source": [
    "a=2\n",
    "b=2\n",
    "while (b<10):\n",
    "    print('iteration',a)\n",
    "    a=a+1\n",
    "    b=b+1\n",
    "if b==a:\n",
    "    print('while loop terminated')"
   ]
  },
  {
   "cell_type": "code",
   "execution_count": 15,
   "id": "be780d7b",
   "metadata": {},
   "outputs": [
    {
     "name": "stdout",
     "output_type": "stream",
     "text": [
      "the count is: 0\n",
      "the count is: 1\n",
      "the count is: 2\n",
      "the count is: 3\n",
      "the count is: 4\n",
      "the count is: 5\n",
      "the count is: 6\n",
      "the count is: 7\n",
      "the count is: 8\n",
      "goodbye\n"
     ]
    }
   ],
   "source": [
    "count=0\n",
    "while(count<9):\n",
    "    print('the count is:',count)\n",
    "    count=count+1\n",
    "print('goodbye')"
   ]
  },
  {
   "cell_type": "code",
   "execution_count": 15,
   "id": "c4694998",
   "metadata": {},
   "outputs": [
    {
     "name": "stdout",
     "output_type": "stream",
     "text": [
      "1\n",
      "4\n",
      "16\n",
      "36\n",
      "121\n",
      "400\n"
     ]
    }
   ],
   "source": [
    "nums=[1,2,4,6,11,20]\n",
    "seq=0\n",
    "for val in nums:\n",
    "    seq=val*val\n",
    "    print(seq)"
   ]
  },
  {
   "cell_type": "code",
   "execution_count": 17,
   "id": "63e5d461",
   "metadata": {},
   "outputs": [
    {
     "name": "stdout",
     "output_type": "stream",
     "text": [
      "college 1 is M\n",
      "college 2 is A\n",
      "college 3 is I\n",
      "college 4 is N\n",
      "college 5 is G\n",
      "college 6 is I\n"
     ]
    }
   ],
   "source": [
    "lis=['M','A','I','N','G','I']\n",
    "i=1\n",
    "for item in lis:\n",
    "    print('college',i, 'is', item)\n",
    "    i=i+1"
   ]
  },
  {
   "cell_type": "code",
   "execution_count": 19,
   "id": "0b952654",
   "metadata": {},
   "outputs": [
    {
     "name": "stdout",
     "output_type": "stream",
     "text": [
      "1st four prime numbers\n",
      "2\n",
      "3\n",
      "5\n",
      "7\n"
     ]
    }
   ],
   "source": [
    "tuple=(2,3,5,7)\n",
    "print('1st four prime numbers')\n",
    "for a in tuple:\n",
    "    print(a)"
   ]
  },
  {
   "cell_type": "code",
   "execution_count": 27,
   "id": "2685fe4f",
   "metadata": {},
   "outputs": [
    {
     "name": "stdout",
     "output_type": "stream",
     "text": [
      "keys are:\n",
      "\t ces\n",
      "\t it\n",
      "\t ese\n",
      "values are:\n",
      "\t block1\n",
      "\t block2\n",
      "\t block3\n"
     ]
    }
   ],
   "source": [
    "college={'ces':'block1','it':'block2','ese':'block3'}\n",
    "print ('keys are:')\n",
    "for keys in college:\n",
    "    print('\\t',keys)\n",
    "\n",
    "print('values are:')\n",
    "for blocks in college.values():\n",
    "    print('\\t', blocks)"
   ]
  },
  {
   "cell_type": "code",
   "execution_count": 28,
   "id": "518f0eda",
   "metadata": {},
   "outputs": [
    {
     "name": "stdout",
     "output_type": "stream",
     "text": [
      "M\n",
      "R\n",
      "C\n",
      "E\n",
      "T\n"
     ]
    }
   ],
   "source": [
    "college='MRCET'\n",
    "for name in college:\n",
    "    print(name)"
   ]
  },
  {
   "cell_type": "code",
   "execution_count": null,
   "id": "20a0f15d",
   "metadata": {},
   "outputs": [],
   "source": []
  }
 ],
 "metadata": {
  "kernelspec": {
   "display_name": "Python 3",
   "language": "python",
   "name": "python3"
  },
  "language_info": {
   "codemirror_mode": {
    "name": "ipython",
    "version": 3
   },
   "file_extension": ".py",
   "mimetype": "text/x-python",
   "name": "python",
   "nbconvert_exporter": "python",
   "pygments_lexer": "ipython3",
   "version": "3.13.3"
  }
 },
 "nbformat": 4,
 "nbformat_minor": 5
}
