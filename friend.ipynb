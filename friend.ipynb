{
 "cells": [
  {
   "cell_type": "code",
   "execution_count": 1,
   "id": "845827a8",
   "metadata": {},
   "outputs": [
    {
     "name": "stdout",
     "output_type": "stream",
     "text": [
      "2.5 and 0\n",
      "12and25.0\n"
     ]
    }
   ],
   "source": [
    "loy = 5/2\n",
    "jik = 1//2\n",
    "print(f\"{loy} and {jik}\")\n",
    "ch=76//6\n",
    "lo=75/3\n",
    "print (f\"{ch}and{lo}\")"
   ]
  },
  {
   "cell_type": "code",
   "execution_count": null,
   "id": "db7a959b",
   "metadata": {},
   "outputs": [
    {
     "name": "stdout",
     "output_type": "stream",
     "text": [
      "Good morning class. My name is teacher Amos.\n",
      "my phone name is itel. I like it.\n",
      "My name is faith.I like it.\n"
     ]
    }
   ],
   "source": [
    "# # compinining strings\n",
    "# um = \"Good morning class.\"\n",
    "# tw = \"My name is teacher Amos.\"\n",
    "# remt = um + \" \" + tw\n",
    "# print(remt)\n",
    "# ty='my phone name is itel.'\n",
    "# yt='I like it.'\n",
    "# tyu=ty+' '+yt\n",
    "# print(tyu)\n",
    "# ty='My name is faith.'\n",
    "# Yt='And l love my name.'\n",
    "# tyu=ty+' '+yt\n",
    "# print(tyu)"
   ]
  },
  {
   "cell_type": "code",
   "execution_count": null,
   "id": "e9e711c4",
   "metadata": {},
   "outputs": [],
   "source": [
    "# What is a correct syntax to merge variable x and y into variable z?\n",
    "\n",
    "z = x + y"
   ]
  },
  {
   "cell_type": "code",
   "execution_count": null,
   "id": "456d9705",
   "metadata": {},
   "outputs": [],
   "source": [
    "# What will be the result of the following code:\n",
    "x = 'Welcome'\n",
    "y = 'Coders'\n",
    "print(x + y)\n",
    "\n",
    "# WelcomeCoders"
   ]
  },
  {
   "cell_type": "code",
   "execution_count": null,
   "id": "9340ccbe",
   "metadata": {},
   "outputs": [
    {
     "name": "stdout",
     "output_type": "stream",
     "text": [
      "Hello World! 6\n"
     ]
    }
   ],
   "source": [
    "manu = 6\n",
    "jupi = f\"Hello World! {manu}\"\n",
    "print(jupi)"
   ]
  },
  {
   "cell_type": "code",
   "execution_count": null,
   "id": "682911fb",
   "metadata": {},
   "outputs": [
    {
     "name": "stdout",
     "output_type": "stream",
     "text": [
      "the price of avocado was 3000 Ksh.\n"
     ]
    }
   ],
   "source": [
    "tsty = f\"the price of avocado was Ksh. {50 *60}\"\n",
    "print(tsty)"
   ]
  },
  {
   "cell_type": "code",
   "execution_count": 14,
   "id": "6b6663ed",
   "metadata": {},
   "outputs": [
    {
     "name": "stdout",
     "output_type": "stream",
     "text": [
      "The price is  5,986,548 dollars\n",
      "my account has7,738,893,939,393,939,393,939 ksh\n",
      "Tatol loan that will suffice the project is\n",
      "6,225,210\n"
     ]
    }
   ],
   "source": [
    "# place holders\n",
    "prie = 5986548\n",
    "txtyp = f\"The price is {prie: ,} dollars\"\n",
    "print(txtyp)\n",
    "you=7738893939393939393939\n",
    "yu=f'my account has{you:,} ksh'\n",
    "print(yu)\n",
    "people=7890\n",
    "loan=f'Tatol loan that will suffice the project is\\n{people*789:,}'\n",
    "print(loan)\n"
   ]
  },
  {
   "cell_type": "code",
   "execution_count": 15,
   "id": "e9242f0b",
   "metadata": {},
   "outputs": [
    {
     "name": "stdout",
     "output_type": "stream",
     "text": [
      "The price is 9.00 dollars\n",
      "3.3333\n",
      "the volume of a water drop is 0.8444 mm\n"
     ]
    }
   ],
   "source": [
    "# Decimal places\n",
    "x = 9\n",
    "print(f'The price is {x:.2f} dollars')\n",
    "print(f'{(10/3):.4f}')\n",
    "z=76\n",
    "print(f'the volume of a water drop is {(z/90):.4f} mm')\n"
   ]
  },
  {
   "cell_type": "code",
   "execution_count": null,
   "id": "4fd6e16a",
   "metadata": {},
   "outputs": [
    {
     "name": "stdout",
     "output_type": "stream",
     "text": [
      "My name is John, and I am 36\n",
      "the total number of apples to be supplied in 28 schools is252000 \n"
     ]
    }
   ],
   "source": [
    "# Insert the correct syntax to add a placeholder for the age parameter.\n",
    "age = 36\n",
    "txt = f\"My name is John, and I am {age}\"\n",
    "print(txt)\n",
    "aplles=9000\n",
    "print(f'the total number of apples to be supplied in 28 schools is{aplles*28} ')\n"
   ]
  },
  {
   "cell_type": "code",
   "execution_count": 3,
   "id": "3f29f0d1",
   "metadata": {},
   "outputs": [
    {
     "name": "stdout",
     "output_type": "stream",
     "text": [
      "The price is 5 dollars\n",
      "The total number of loaves in the create are 5952\n"
     ]
    }
   ],
   "source": [
    "# What will be the result of the following code:\n",
    "print(f'The price is {2 + 3} dollars')\n",
    "\n",
    "# # The price is 23 dollars\n",
    "# The price is 5 dollars\n",
    "# The price is {2 + 3} dollars\n",
    "# The price is 6 dollars\n",
    "print (f'The total number of loaves in the create are { 248*24}')"
   ]
  },
  {
   "cell_type": "code",
   "execution_count": null,
   "id": "53af74af",
   "metadata": {},
   "outputs": [
    {
     "name": "stdout",
     "output_type": "stream",
     "text": [
      "I am a data analyst. I just begun learning. \n",
      "You can contact me on monday blah\n"
     ]
    }
   ],
   "source": [
    "print(\"I am a data analyst. I just begun learning. \\nYou can contact me on monday blah\")"
   ]
  },
  {
   "cell_type": "code",
   "execution_count": null,
   "id": "fa0ede5c",
   "metadata": {},
   "outputs": [
    {
     "name": "stdout",
     "output_type": "stream",
     "text": [
      "He said \"hello\"\n",
      "she said 'hello'\n"
     ]
    }
   ],
   "source": [
    "txt = \"He said \\\"hello\\\"\" \n",
    "print(txt)\n",
    "Rmk=(\"she said \\'hello\\'\")\n",
    "# is the same as\" she said 'hello'\"\n",
    "# all is to just avoid errors\n",
    "print(Rmk)"
   ]
  },
  {
   "cell_type": "code",
   "execution_count": null,
   "id": "b480c8d5",
   "metadata": {},
   "outputs": [
    {
     "name": "stdout",
     "output_type": "stream",
     "text": [
      "she said \"Hi\"\n"
     ]
    }
   ],
   "source": [
    "# double quote\n",
    "print(\"she said \\\"Hi\\\"\")"
   ]
  },
  {
   "cell_type": "code",
   "execution_count": 10,
   "id": "e764d2e7",
   "metadata": {},
   "outputs": [
    {
     "name": "stdout",
     "output_type": "stream",
     "text": [
      "Today isn't a market day\n",
      "we aren't friends\n",
      "Isn't formal to use clunky vocabularies in public\n"
     ]
    }
   ],
   "source": [
    "# single quote\n",
    "print('Today isn\\'t a market day')\n",
    "# realise the difference when you +/-the backslash\n",
    "print('we aren\\'t friends')\n",
    "# it's after the slash  you put the (') sign\n",
    "print('Isn\\'t formal to use clunky vocabularies in public')"
   ]
  },
  {
   "cell_type": "code",
   "execution_count": 13,
   "id": "866b5712",
   "metadata": {},
   "outputs": [
    {
     "name": "stdout",
     "output_type": "stream",
     "text": [
      "path: C:\\Users\\Username\n",
      "path:Reuben\\maingi\\the document is private\n",
      "The price is 59 dollars\n",
      "the total number of laps is 720 laps\n",
      "hello diary, today is a great day!\n",
      "I got to meet the president\n"
     ]
    }
   ],
   "source": [
    "# creating path to access  files , document and end of  thinking  capacity\n",
    "Homepc = \"path: C:\\\\Users\\\\Username\"\n",
    "print(Homepc)\n",
    "thinkpad='path:Reuben\\\\maingi\\\\the document is private'\n",
    "print(thinkpad)\n",
    "# placeholder\n",
    "price = 59\n",
    "txt = f\"The price is {price} dollars\"\n",
    "print(txt)\n",
    "players=80\n",
    "lk=f'the total number of laps is {players*9} laps'\n",
    "print(lk)\n",
    "journal = \"hello diary, today is a great day!\\nI got to meet the president\"\n",
    "print(journal)"
   ]
  },
  {
   "cell_type": "code",
   "execution_count": 16,
   "id": "8f82e533",
   "metadata": {},
   "outputs": [
    {
     "name": "stdout",
     "output_type": "stream",
     "text": [
      "Hello\t John\n",
      "compassions have aided many desparate people\t I love compassion\n"
     ]
    }
   ],
   "source": [
    "# tab space achieve through '\\t'\n",
    "namee = \"Hello\\t John\"\n",
    "print(namee)\n",
    "print('compassions have aided many desparate people\\t I love compassion')"
   ]
  },
  {
   "cell_type": "code",
   "execution_count": 18,
   "id": "050abfd9",
   "metadata": {},
   "outputs": [
    {
     "name": "stdout",
     "output_type": "stream",
     "text": [
      "I am travelling\n",
      "am a tall, dark and handsome boy\n"
     ]
    }
   ],
   "source": [
    "# remove one character sponsored by \\b command\n",
    "print(\"I am travellingg\\b\")\n",
    "print(\"am a tall, dark and handsome boyy\\b\")"
   ]
  },
  {
   "cell_type": "code",
   "execution_count": null,
   "id": "a32af6c8",
   "metadata": {},
   "outputs": [
    {
     "name": "stdout",
     "output_type": "stream",
     "text": [
      " Brenda\n"
     ]
    }
   ],
   "source": [
    "# carriage return\n",
    "print(\"Hi is\\r Brenda\")"
   ]
  },
  {
   "cell_type": "code",
   "execution_count": null,
   "id": "c832ce97",
   "metadata": {},
   "outputs": [
    {
     "name": "stdout",
     "output_type": "stream",
     "text": [
      "Hello\fWorld!\n"
     ]
    }
   ],
   "source": [
    "print(\"Hello\\fWorld!\")"
   ]
  },
  {
   "cell_type": "code",
   "execution_count": null,
   "id": "c55c59b3",
   "metadata": {},
   "outputs": [
    {
     "name": "stdout",
     "output_type": "stream",
     "text": [
      "Hello world!\n"
     ]
    }
   ],
   "source": [
    "# String method examples\n",
    "# capitalize\n",
    "print(\"hello world!\".capitalize())"
   ]
  },
  {
   "cell_type": "code",
   "execution_count": null,
   "id": "92e9388f",
   "metadata": {},
   "outputs": [
    {
     "name": "stdout",
     "output_type": "stream",
     "text": [
      "hello\n"
     ]
    }
   ],
   "source": [
    "# casefold- convert to lower case\n",
    "print(\"HELLO\".casefold())"
   ]
  },
  {
   "cell_type": "code",
   "execution_count": null,
   "id": "e8a25ed3",
   "metadata": {},
   "outputs": [
    {
     "name": "stdout",
     "output_type": "stream",
     "text": [
      "---adam---\n"
     ]
    }
   ],
   "source": [
    "# center()\n",
    "print(\"adam\".center(10, '-'))"
   ]
  },
  {
   "cell_type": "code",
   "execution_count": null,
   "id": "55900139",
   "metadata": {},
   "outputs": [
    {
     "name": "stdout",
     "output_type": "stream",
     "text": [
      "2\n"
     ]
    }
   ],
   "source": [
    "# count\n",
    "print(\"jaguar\".count('a'))"
   ]
  },
  {
   "cell_type": "code",
   "execution_count": null,
   "id": "e148db49",
   "metadata": {},
   "outputs": [
    {
     "name": "stdout",
     "output_type": "stream",
     "text": [
      "b'goo`'\n"
     ]
    }
   ],
   "source": [
    "# encode\n",
    "print(\"goo`\".encode())"
   ]
  },
  {
   "cell_type": "code",
   "execution_count": null,
   "id": "0d937e39",
   "metadata": {},
   "outputs": [
    {
     "name": "stdout",
     "output_type": "stream",
     "text": [
      "b'caf\\xc3\\xa9'\n"
     ]
    }
   ],
   "source": [
    "print(\"café\".encode())"
   ]
  },
  {
   "cell_type": "code",
   "execution_count": null,
   "id": "aea6cc1c",
   "metadata": {},
   "outputs": [
    {
     "name": "stdout",
     "output_type": "stream",
     "text": [
      "True\n"
     ]
    }
   ],
   "source": [
    "# endswith()\n",
    "print(\"sample.py\".endswith(\".py\"))"
   ]
  },
  {
   "cell_type": "code",
   "execution_count": null,
   "id": "d0f40d6b",
   "metadata": {},
   "outputs": [
    {
     "name": "stdout",
     "output_type": "stream",
     "text": [
      "True\n"
     ]
    }
   ],
   "source": [
    "print(\"copycut\".endswith(\"ut\"))"
   ]
  },
  {
   "cell_type": "code",
   "execution_count": null,
   "id": "4cc2c856",
   "metadata": {},
   "outputs": [
    {
     "name": "stdout",
     "output_type": "stream",
     "text": [
      "a   b   c\n"
     ]
    }
   ],
   "source": [
    "# expandtabs\n",
    "print(\"a\\tb\\tc\".expandtabs(4))"
   ]
  },
  {
   "cell_type": "code",
   "execution_count": null,
   "id": "dd24d4d8",
   "metadata": {},
   "outputs": [
    {
     "name": "stdout",
     "output_type": "stream",
     "text": [
      "6\n"
     ]
    }
   ],
   "source": [
    "# find()\n",
    "print(\"Hello world\".find(\"world\"))"
   ]
  },
  {
   "cell_type": "code",
   "execution_count": null,
   "id": "b84486ea",
   "metadata": {},
   "outputs": [
    {
     "name": "stdout",
     "output_type": "stream",
     "text": [
      "What will happen to politics\n"
     ]
    }
   ],
   "source": [
    "# format \n",
    "print(\"What will happen to {}\".format('politics'))"
   ]
  },
  {
   "cell_type": "code",
   "execution_count": null,
   "id": "ea12135c",
   "metadata": {},
   "outputs": [
    {
     "name": "stdout",
     "output_type": "stream",
     "text": [
      "1\n"
     ]
    }
   ],
   "source": [
    "# index\n",
    "print(\"Hello\".index(\"e\"))"
   ]
  },
  {
   "cell_type": "code",
   "execution_count": null,
   "id": "d17846f9",
   "metadata": {},
   "outputs": [
    {
     "name": "stdout",
     "output_type": "stream",
     "text": [
      "True\n"
     ]
    }
   ],
   "source": [
    "# is alphanumeric: alphabetic and number/numeric\n",
    "print(\"abc123\".isalnum())"
   ]
  },
  {
   "cell_type": "code",
   "execution_count": null,
   "id": "fff5796e",
   "metadata": {},
   "outputs": [
    {
     "name": "stdout",
     "output_type": "stream",
     "text": [
      "True\n"
     ]
    }
   ],
   "source": [
    "# is alphabetic\n",
    "print(\"good\".isalpha())"
   ]
  },
  {
   "cell_type": "code",
   "execution_count": null,
   "id": "f2814b2c",
   "metadata": {},
   "outputs": [
    {
     "name": "stdout",
     "output_type": "stream",
     "text": [
      "True\n"
     ]
    }
   ],
   "source": [
    "# is ASCII \n",
    "# ASCII stands for the \"American Standard Code for Information Interchange\".\n",
    "print(\"abc\".isascii())"
   ]
  },
  {
   "cell_type": "code",
   "execution_count": null,
   "id": "0a71cf7e",
   "metadata": {},
   "outputs": [
    {
     "name": "stdout",
     "output_type": "stream",
     "text": [
      "True\n"
     ]
    }
   ],
   "source": [
    "print(\"`\".isascii())"
   ]
  },
  {
   "cell_type": "code",
   "execution_count": null,
   "id": "10fde84b",
   "metadata": {},
   "outputs": [
    {
     "name": "stdout",
     "output_type": "stream",
     "text": [
      "Hello Python, I love learning!\n"
     ]
    }
   ],
   "source": [
    "sentence=[72, 101, 108, 108, 111, 32, 80, 121, 116, 104, 111, 110, 44, 32, \n",
    "         73, 32, 108, 111, 118, 101, 32, 108, 101, 97, 114, 110, 105, 110, 103, 33]\n",
    "decode=\"\".join(chr(code) for code in sentence)\n",
    "print (decode)"
   ]
  },
  {
   "cell_type": "code",
   "execution_count": null,
   "id": "d63d4cbc",
   "metadata": {},
   "outputs": [
    {
     "name": "stdout",
     "output_type": "stream",
     "text": [
      "Hello Python, I love learning!\n"
     ]
    }
   ],
   "source": [
    "sentence=[72, 101, 108, 108, 111, 32, 80, 121, 116, 104, 111, 110, 44, 32, \n",
    "         73, 32, 108, 111, 118, 101, 32, 108, 101, 97, 114, 110, 105, 110, 103, 33]\n",
    "for code in sentence:\n",
    "    # the command chr converts ASCII to string character\n",
    "    \"\".join(chr(code))\n",
    "    print (decode)\n",
    "    break"
   ]
  },
  {
   "cell_type": "code",
   "execution_count": null,
   "id": "65c6da24",
   "metadata": {},
   "outputs": [
    {
     "name": "stdout",
     "output_type": "stream",
     "text": [
      "Hello, World!\n"
     ]
    }
   ],
   "source": [
    "# You are given a list of binary numbers representing ASCII characters. \n",
    "# Your task is to decode the binary list into a readable message using Python.\n",
    "binary_codes = [\n",
    "    '01001000', '01100101', '01101100', '01101100', '01101111',\n",
    "    '00101100', '00100000', '01010111', '01101111', '01110010',\n",
    "    '01101100', '01100100', '00100001'\n",
    "]\n",
    "# output: Hello, World!\n",
    "empty = \"\"\n",
    "for binary in binary_codes:\n",
    "    final=chr(int(binary, 2))\n",
    "    empty += final\n",
    "print(empty)"
   ]
  }
 ],
 "metadata": {
  "kernelspec": {
   "display_name": "Python 3",
   "language": "python",
   "name": "python3"
  },
  "language_info": {
   "codemirror_mode": {
    "name": "ipython",
    "version": 3
   },
   "file_extension": ".py",
   "mimetype": "text/x-python",
   "name": "python",
   "nbconvert_exporter": "python",
   "pygments_lexer": "ipython3",
   "version": "3.13.3"
  }
 },
 "nbformat": 4,
 "nbformat_minor": 5
}
