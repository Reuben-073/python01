{
 "cells": [
  {
   "cell_type": "code",
   "execution_count": 1,
   "id": "8b8132ca",
   "metadata": {},
   "outputs": [
    {
     "name": "stdout",
     "output_type": "stream",
     "text": [
      "{'Python Editor', 'Fathers of Nation', 'Encyclopedia', 'Flying colors', 'KLB'}\n"
     ]
    }
   ],
   "source": [
    "books = {\"KLB\", \"Encyclopedia\", \"Flying colors\", \"Fathers of Nation\"}\n",
    "books.add(\"Python Editor\")\n",
    "print(books)"
   ]
  },
  {
   "cell_type": "code",
   "execution_count": 2,
   "id": "e61809a2",
   "metadata": {},
   "outputs": [
    {
     "name": "stdout",
     "output_type": "stream",
     "text": [
      "{'kkl', 'FGCK', 'GRC', 'CCMI', 'AIC'}\n"
     ]
    }
   ],
   "source": [
    "church={'GRC','AIC','FGCK','CCMI'}\n",
    "church.add('kkl')\n",
    "print(church)\n"
   ]
  },
  {
   "cell_type": "code",
   "execution_count": 3,
   "id": "c246de1e",
   "metadata": {},
   "outputs": [
    {
     "name": "stdout",
     "output_type": "stream",
     "text": [
      "{'Fathers of Nation', 'Kitui', 'Machakos', 'Nairobi', 'Encyclopedia', 'Flying colors', 'Mwingi', 'KLB'}\n"
     ]
    }
   ],
   "source": [
    "bookstitles = {\"KLB\", \"Encyclopedia\", \"Flying colors\", \"Fathers of Nation\"}\n",
    "towns={\"Mwingi\", \"Kitui\", \"Machakos\", \"Nairobi\"}\n",
    "bookstitles.update(towns)\n",
    "print(bookstitles)"
   ]
  },
  {
   "cell_type": "code",
   "execution_count": 6,
   "id": "9e030bf2",
   "metadata": {},
   "outputs": [
    {
     "name": "stdout",
     "output_type": "stream",
     "text": [
      "{'Nairobi', 'Machakos', 'Kitui'}\n"
     ]
    }
   ],
   "source": [
    "mintowns = {\"Mwingi\", \"Kitui\", \"Machakos\", \"Nairobi\"}\n",
    "mintowns.remove(\"Mwingi\")\n",
    "print(mintowns)"
   ]
  },
  {
   "cell_type": "code",
   "execution_count": 7,
   "id": "4c082e67",
   "metadata": {},
   "outputs": [
    {
     "name": "stdout",
     "output_type": "stream",
     "text": [
      "{'Nairobi', 'Machakos', 'Kitui'}\n"
     ]
    }
   ],
   "source": [
    "mtowns = {\"Mwingi\", \"Kitui\", \"Machakos\", \"Nairobi\"}\n",
    "mtowns.discard(\"Mwingi\")\n",
    "print(mtowns)"
   ]
  },
  {
   "cell_type": "code",
   "execution_count": 10,
   "id": "64250521",
   "metadata": {},
   "outputs": [
    {
     "name": "stdout",
     "output_type": "stream",
     "text": [
      "pascalcase\n",
      "{'kebabcase', 'camelcase', 'snakecase'}\n"
     ]
    }
   ],
   "source": [
    "namingconv = {\"snakecase\", \"kebabcase\", \"pascalcase\", \"camelcase\"}\n",
    "xy = namingconv.pop()\n",
    "print(xy)\n",
    "print(namingconv)"
   ]
  },
  {
   "cell_type": "code",
   "execution_count": 11,
   "id": "a87e10bb",
   "metadata": {},
   "outputs": [
    {
     "name": "stdout",
     "output_type": "stream",
     "text": [
      "set()\n"
     ]
    }
   ],
   "source": [
    "naming = {\"snakecase\", \"kebabcase\", \"pascalcase\", \"camelcase\"}\n",
    "naming.clear()\n",
    "print(naming)"
   ]
  },
  {
   "cell_type": "code",
   "execution_count": 12,
   "id": "bc465ddc",
   "metadata": {},
   "outputs": [
    {
     "ename": "NameError",
     "evalue": "name 'fruits' is not defined",
     "output_type": "error",
     "traceback": [
      "\u001b[1;31m---------------------------------------------------------------------------\u001b[0m",
      "\u001b[1;31mNameError\u001b[0m                                 Traceback (most recent call last)",
      "Cell \u001b[1;32mIn[12], line 3\u001b[0m\n\u001b[0;32m      1\u001b[0m fruits \u001b[38;5;241m=\u001b[39m {\u001b[38;5;124m\"\u001b[39m\u001b[38;5;124mapple\u001b[39m\u001b[38;5;124m\"\u001b[39m, \u001b[38;5;124m\"\u001b[39m\u001b[38;5;124mbanana\u001b[39m\u001b[38;5;124m\"\u001b[39m, \u001b[38;5;124m\"\u001b[39m\u001b[38;5;124mcherry\u001b[39m\u001b[38;5;124m\"\u001b[39m, \u001b[38;5;124m\"\u001b[39m\u001b[38;5;124mdate\u001b[39m\u001b[38;5;124m\"\u001b[39m}\n\u001b[0;32m      2\u001b[0m \u001b[38;5;28;01mdel\u001b[39;00m fruits\n\u001b[1;32m----> 3\u001b[0m \u001b[38;5;28mprint\u001b[39m(\u001b[43mfruits\u001b[49m)\n",
      "\u001b[1;31mNameError\u001b[0m: name 'fruits' is not defined"
     ]
    }
   ],
   "source": [
    "fruits = {\"apple\", \"banana\", \"cherry\", \"date\"}\n",
    "del fruits\n",
    "print(fruits)"
   ]
  },
  {
   "cell_type": "code",
   "execution_count": null,
   "id": "3e59dea4",
   "metadata": {},
   "outputs": [],
   "source": [
    "# Exercise?\n",
    "# What is a correct syntax for removing an item from a set?\n",
    "# delete() - deletes the entire set\n",
    "remove() - removes a specified item\n",
    "# extract() - it is not a valid method"
   ]
  },
  {
   "cell_type": "code",
   "execution_count": null,
   "id": "e62381fe",
   "metadata": {},
   "outputs": [
    {
     "name": "stdout",
     "output_type": "stream",
     "text": [
      "{'cherry', 'apple'}\n"
     ]
    }
   ],
   "source": [
    "# Use the remove method to remove \"banana\" from the fruits set.\n",
    "fruits = {\"apple\", \"banana\", \"cherry\"}\n",
    "fruits.remove(\"banana\")\n",
    "print(fruits)"
   ]
  },
  {
   "cell_type": "code",
   "execution_count": null,
   "id": "ff835377",
   "metadata": {},
   "outputs": [
    {
     "name": "stdout",
     "output_type": "stream",
     "text": [
      "{'cherry', 'apple'}\n"
     ]
    }
   ],
   "source": [
    "# Use the discard method to remove \"banana\" from the fruits set.\n",
    "fruits = {\"apple\", \"banana\", \"cherry\"}\n",
    "fruits.discard(\"banana\")\n",
    "print(fruits)"
   ]
  },
  {
   "cell_type": "code",
   "execution_count": 15,
   "id": "20ab3487",
   "metadata": {},
   "outputs": [
    {
     "name": "stdout",
     "output_type": "stream",
     "text": [
      "set()\n"
     ]
    }
   ],
   "source": [
    "# Select the correct function to remove all items from a set:\n",
    "fruits = {'apple', 'banana', 'cherry'}\n",
    "fruits.clear()\n",
    "print(fruits)"
   ]
  },
  {
   "cell_type": "code",
   "execution_count": 16,
   "id": "1572e74a",
   "metadata": {},
   "outputs": [
    {
     "name": "stdout",
     "output_type": "stream",
     "text": [
      "cherry\n",
      "apple\n",
      "banana\n"
     ]
    }
   ],
   "source": [
    "thisset = {\"apple\", \"banana\", \"cherry\"}\n",
    "\n",
    "for x in thisset:\n",
    "    print(x)"
   ]
  },
  {
   "cell_type": "code",
   "execution_count": null,
   "id": "1b4f2ad1",
   "metadata": {},
   "outputs": [],
   "source": [
    "# Exercise?\n",
    "# What is a correct syntax for looping through the items of a set?\n",
    "\n",
    "for x in {'apple', 'banana', 'cherry'}:\n",
    "  print(x)\n",
    "# for x in {'apple', 'banana', 'cherry'}\n",
    "#   print(x)\n",
    "# foreach x in {'apple', 'banana', 'cherry'}\n",
    "#   print(x)"
   ]
  },
  {
   "cell_type": "code",
   "execution_count": 17,
   "id": "a399fde2",
   "metadata": {},
   "outputs": [
    {
     "name": "stdout",
     "output_type": "stream",
     "text": [
      "{1, 2, 3, 'a', 'c', 'b'}\n"
     ]
    }
   ],
   "source": [
    "# union()\n",
    "# returns a new set with all items from both sets.\n",
    "set1 = {\"a\", \"b\", \"c\"}\n",
    "set2 = {1, 2, 3}\n",
    "set3 = set1.union(set2)\n",
    "print(set3)"
   ]
  },
  {
   "cell_type": "code",
   "execution_count": 18,
   "id": "ec215114",
   "metadata": {},
   "outputs": [
    {
     "name": "stdout",
     "output_type": "stream",
     "text": [
      "{1, 2, 3, 'a', 'c', 'b'}\n"
     ]
    }
   ],
   "source": [
    "# you use the | operator to perform a union operation on two sets.\n",
    "set11 = {\"a\", \"b\", \"c\"}\n",
    "set22 = {1, 2, 3}\n",
    "set33 = set11 | set22\n",
    "print(set33)"
   ]
  },
  {
   "cell_type": "code",
   "execution_count": null,
   "id": "b4e0b4ef",
   "metadata": {},
   "outputs": [
    {
     "name": "stdout",
     "output_type": "stream",
     "text": [
      "{1, 2, 3, 'cabbage', 72, 73, 74, 'banana', 'potato', 'apple', 'carrot', 'cherry'}\n",
      "{1, 2, 3, 'cabbage', 72, 73, 74, 'banana', 'potato', 'apple', 'carrot', 'cherry'}\n"
     ]
    }
   ],
   "source": [
    "# add multiple sets\n",
    "fruitss = {\"apple\", \"banana\", \"cherry\"}\n",
    "numbers = {1, 2, 3}\n",
    "vegetables = {\"carrot\", \"potato\", \"cabbage\"}\n",
    "phone = {72, 73, 74}\n",
    "\n",
    "all_items = fruitss.union(numbers, vegetables, phone, fruitss)\n",
    "print(all_items)\n",
    "\n",
    "list_items = fruitss | numbers | vegetables | phone | fruitss\n",
    "print(list_items)"
   ]
  },
  {
   "cell_type": "code",
   "execution_count": 27,
   "id": "a16f236b",
   "metadata": {},
   "outputs": [
    {
     "name": "stdout",
     "output_type": "stream",
     "text": [
      "{1, 2, 3, 'cat', 'mouse', 'a', 'c', 'b', 'dog'}\n"
     ]
    }
   ],
   "source": [
    "# The union() method allows you to join a set with other data types, like lists or tuples.\n",
    "x = {\"a\", \"a\", \"b\", \"c\"}\n",
    "y = (1, 2, 3)\n",
    "a = [\"dog\", \"cat\", \"mouse\"]\n",
    "\n",
    "z = x.union(y, a)\n",
    "print(z)"
   ]
  },
  {
   "cell_type": "code",
   "execution_count": null,
   "id": "bb9fc311",
   "metadata": {},
   "outputs": [
    {
     "name": "stdout",
     "output_type": "stream",
     "text": [
      "{1, 2, 3, 'a', 'c', 'b'}\n"
     ]
    }
   ],
   "source": [
    "# The update() method inserts all items from one set into another.\n",
    "# The update() changes the original set, and does not return a new set.\n",
    "set1 = {\"a\", \"b\", \"c\"}\n",
    "set2 = {1, 2, 3}\n",
    "\n",
    "set1.update(set2)\n",
    "print(set1)"
   ]
  },
  {
   "cell_type": "code",
   "execution_count": null,
   "id": "ed02335a",
   "metadata": {},
   "outputs": [
    {
     "name": "stdout",
     "output_type": "stream",
     "text": [
      "{'c'}\n"
     ]
    }
   ],
   "source": [
    "# The intersection() method will return a new set, that only contains the items that are present in both sets.\n",
    "set13 = {\"a\", \"b\", \"c\"}\n",
    "set23 = {\"e\", \"c\", \"g\"}\n",
    "set34 = set13.intersection(set23)\n",
    "print(set34)"
   ]
  },
  {
   "cell_type": "code",
   "execution_count": null,
   "id": "f447f289",
   "metadata": {},
   "outputs": [
    {
     "name": "stdout",
     "output_type": "stream",
     "text": [
      "{'c'}\n"
     ]
    }
   ],
   "source": [
    "# you can also use the & operator to perform an intersection operation on two sets.` \n",
    "set14 = {\"a\", \"b\", \"c\"}\n",
    "set24 = {\"e\", \"c\", \"g\"}\n",
    "set35 = set14 & set24\n",
    "print(set35)\n",
    "# Note: The & operator only allows you to join sets with sets, and not with other data types like you can with the intersection() method."
   ]
  },
  {
   "cell_type": "code",
   "execution_count": 36,
   "id": "57748c20",
   "metadata": {},
   "outputs": [
    {
     "name": "stdout",
     "output_type": "stream",
     "text": [
      "{'cherry', 'banana'}\n"
     ]
    }
   ],
   "source": [
    "# The intersection_update() method will also keep ONLY the duplicates,\n",
    "# but it will change the original set instead of returning a new set.\n",
    "fruitstoday = {\"apple\", \"banana\", \"cherry\"}\n",
    "fruitsyesterday = {\"banana\", \"cherry\", \"orange\"}\n",
    "fruitstoday.intersection_update(fruitsyesterday)\n",
    "print(fruitstoday)"
   ]
  },
  {
   "cell_type": "code",
   "execution_count": 38,
   "id": "52671584",
   "metadata": {},
   "outputs": [
    {
     "name": "stdout",
     "output_type": "stream",
     "text": [
      "{False, 1, 'apple'}\n"
     ]
    }
   ],
   "source": [
    "# The values True and 1 are considered the same value. The same goes for False and 0.\n",
    "firstlist = {\"apple\", 1, \"banana\", 0, \"cherry\"}\n",
    "secondlist = {False, \"google\", 1, \"apple\", 2, True}\n",
    "thirdlist = firstlist.intersection(secondlist)\n",
    "print(thirdlist)"
   ]
  },
  {
   "cell_type": "code",
   "execution_count": 39,
   "id": "dcc959f5",
   "metadata": {},
   "outputs": [
    {
     "name": "stdout",
     "output_type": "stream",
     "text": [
      "{'cherry', 'banana'}\n"
     ]
    }
   ],
   "source": [
    "# The difference() method will return a new set \n",
    "# that will contain only the items from the first set that are not present in the other set.\n",
    "fourthlist = firstlist.difference(secondlist)\n",
    "print(fourthlist)"
   ]
  },
  {
   "cell_type": "code",
   "execution_count": 40,
   "id": "4273ea4b",
   "metadata": {},
   "outputs": [
    {
     "name": "stdout",
     "output_type": "stream",
     "text": [
      "{'cherry', 'banana'}\n"
     ]
    }
   ],
   "source": [
    "# You can use the - operator instead of the difference() method, and you will get the same result.\n",
    "fifthlist = firstlist - secondlist\n",
    "print(fifthlist)"
   ]
  },
  {
   "cell_type": "code",
   "execution_count": 46,
   "id": "d331a638",
   "metadata": {},
   "outputs": [
    {
     "name": "stdout",
     "output_type": "stream",
     "text": [
      "{'potato', 'cabbage', 2}\n"
     ]
    }
   ],
   "source": [
    "# The difference_update() method will also keep the items from the first set that are not in the other set,\n",
    "# but it will change the original set instead of returning a new set.\n",
    "fruitx = {\"apple\", 1, \"banana\", 0, \"cherry\"}\n",
    "veggies = {\"cherry\", \"potato\", \"cabbage\", True, 2}\n",
    "veggies.difference_update(fruitx)\n",
    "print(veggies)"
   ]
  },
  {
   "cell_type": "code",
   "execution_count": 47,
   "id": "6f9cc150",
   "metadata": {},
   "outputs": [
    {
     "name": "stdout",
     "output_type": "stream",
     "text": [
      "{0, 1, 'potato', 'cabbage', 'apple', 2, 'cherry', 'banana'}\n"
     ]
    }
   ],
   "source": [
    "# The symmetric_difference() method will keep only the elements that are NOT present in both sets.\n",
    "shopping = veggies.symmetric_difference(fruitx)\n",
    "print(shopping)"
   ]
  },
  {
   "cell_type": "code",
   "execution_count": 45,
   "id": "4a4d28b2",
   "metadata": {},
   "outputs": [
    {
     "name": "stdout",
     "output_type": "stream",
     "text": [
      "{'google', 'microsoft', 'banana', 'cherry'}\n"
     ]
    }
   ],
   "source": [
    "set1 = {\"apple\", \"banana\", \"cherry\"}\n",
    "set2 = {\"google\", \"microsoft\", \"apple\"}\n",
    "\n",
    "set3 = set1.symmetric_difference(set2)\n",
    "print(set3)"
   ]
  },
  {
   "cell_type": "code",
   "execution_count": 48,
   "id": "b7653ffe",
   "metadata": {},
   "outputs": [
    {
     "name": "stdout",
     "output_type": "stream",
     "text": [
      "{'google', 'microsoft', 'banana', 'cherry'}\n"
     ]
    }
   ],
   "source": [
    "# You can use the ^ operator instead of the symmetric_difference() method, and you will get the same result.\n",
    "set1 = {\"apple\", \"banana\", \"cherry\"}\n",
    "set2 = {\"google\", \"microsoft\", \"apple\"}\n",
    "\n",
    "set3 = set1 ^ set2\n",
    "print(set3)"
   ]
  },
  {
   "cell_type": "code",
   "execution_count": 49,
   "id": "18986769",
   "metadata": {},
   "outputs": [
    {
     "name": "stdout",
     "output_type": "stream",
     "text": [
      "{'google', 'microsoft', 'banana', 'cherry'}\n"
     ]
    }
   ],
   "source": [
    "# The symmetric_difference_update() method will also keep all but the duplicates,\n",
    "# but it will change the original set instead of returning a new set.\n",
    "set1 = {\"apple\", \"banana\", \"cherry\"}\n",
    "set2 = {\"google\", \"microsoft\", \"apple\"}\n",
    "\n",
    "set1.symmetric_difference_update(set2)\n",
    "\n",
    "print(set1)"
   ]
  },
  {
   "cell_type": "code",
   "execution_count": null,
   "id": "05423a18",
   "metadata": {},
   "outputs": [],
   "source": [
    "# Exercise?\n",
    "# What is a correct syntax for joining set1 and set2 into set3?\n",
    "\n",
    "\n",
    "# set3 = join(set1, set2)\n",
    "# set3 = set1 + set2\n",
    "set3 = set1.union(set2)"
   ]
  },
  {
   "cell_type": "code",
   "execution_count": null,
   "id": "3ef1c9f9",
   "metadata": {},
   "outputs": [],
   "source": [
    "# What is a correct syntax for joining multiple sets into one new set called set5?\n",
    "\n",
    "set5 = join(set1, set2, set3, set4)\n",
    "set5 = set1 | set2 | set3 | set4\n",
    "set5.union(set1, set2, set3, set4)"
   ]
  },
  {
   "cell_type": "code",
   "execution_count": null,
   "id": "5a9bb553",
   "metadata": {},
   "outputs": [],
   "source": [
    "# There are many ways to join sets in Python. Which one of the following methods keeps ONLY the duplicates?\n",
    "\n",
    "intersection()\n",
    "union()\n",
    "difference()"
   ]
  }
 ],
 "metadata": {
  "kernelspec": {
   "display_name": "Python 3",
   "language": "python",
   "name": "python3"
  },
  "language_info": {
   "codemirror_mode": {
    "name": "ipython",
    "version": 3
   },
   "file_extension": ".py",
   "mimetype": "text/x-python",
   "name": "python",
   "nbconvert_exporter": "python",
   "pygments_lexer": "ipython3",
   "version": "3.13.3"
  }
 },
 "nbformat": 4,
 "nbformat_minor": 5
}
