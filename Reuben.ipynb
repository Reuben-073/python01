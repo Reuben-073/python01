{
 "cells": [
  {
   "cell_type": "code",
   "execution_count": 1,
   "id": "4625d84a",
   "metadata": {},
   "outputs": [
    {
     "name": "stdout",
     "output_type": "stream",
     "text": [
      "1 is odd \n",
      "\n",
      "3 is odd 5 is odd 7 is odd 9 is odd \n",
      "\n",
      "11 is odd 13 is odd 15 is odd \n",
      "\n",
      "17 is odd 19 is odd 21 is odd \n",
      "\n",
      "23 is odd 25 is odd \n",
      "\n",
      "27 is odd \n",
      "\n",
      "29 is odd 31 is odd 33 is odd \n",
      "\n",
      "35 is odd \n",
      "\n",
      "37 is odd 39 is odd \n",
      "\n",
      "41 is odd 43 is odd 45 is odd \n",
      "\n",
      "47 is odd 49 is odd \n",
      "\n"
     ]
    }
   ],
   "source": [
    "for num in range(1,51):\n",
    "    if num % 2 !=0:\n",
    "        print(f'{num} is odd ',end= '')\n",
    "\n",
    "        is_prime=True\n",
    "        if num==1:\n",
    "          is_prime=False\n",
    "\n",
    "        else:\n",
    "           for i in range(2,int(num**0.5)+1):\n",
    "              if num % i==0:\n",
    "                 is_prime=False\n",
    "                 break\n",
    "    if is_prime:\n",
    "         ( 'and prime')\n",
    "    else:\n",
    "        print() "
   ]
  },
  {
   "cell_type": "code",
   "execution_count": 2,
   "id": "daacffd8",
   "metadata": {},
   "outputs": [
    {
     "name": "stdout",
     "output_type": "stream",
     "text": [
      "\n",
      "odd_numbers from 1 to 50:\n",
      "[1, 3, 5, 7, 9, 11, 13, 15, 17, 19, 21, 23, 25, 27, 29, 31, 33, 35, 37, 39, 41, 43, 45, 47, 49]\n",
      "\n",
      "prime_numbers from 2 to 50:\n",
      "[2, 3, 5, 7, 11, 13, 17, 19, 23, 29, 31, 37, 41, 43, 47]\n"
     ]
    }
   ],
   "source": [
    "odd_numbers=[]\n",
    "prime_numbers=[]\n",
    "\n",
    "for num in range (1,51):\n",
    "    if num % 2 !=0:\n",
    "        odd_numbers.append(num)\n",
    "    if num > 1: \n",
    "        is_prime=True\n",
    "        for i in range (2,int(num**0.5)+1):\n",
    "\n",
    "            if num % i==0:\n",
    "                is_prime=False\n",
    "                break\n",
    "    if  is_prime:\n",
    "         prime_numbers.append(num)\n",
    "\n",
    "print(\"\\nodd_numbers from 1 to 50:\") \n",
    "print(odd_numbers)\n",
    "\n",
    "print('\\nprime_numbers from 2 to 50:')\n",
    "print (prime_numbers)"
   ]
  }
 ],
 "metadata": {
  "kernelspec": {
   "display_name": "Python 3",
   "language": "python",
   "name": "python3"
  },
  "language_info": {
   "codemirror_mode": {
    "name": "ipython",
    "version": 3
   },
   "file_extension": ".py",
   "mimetype": "text/x-python",
   "name": "python",
   "nbconvert_exporter": "python",
   "pygments_lexer": "ipython3",
   "version": "3.13.3"
  }
 },
 "nbformat": 4,
 "nbformat_minor": 5
}
