{
 "cells": [
  {
   "cell_type": "code",
   "execution_count": 14,
   "id": "7b842335",
   "metadata": {},
   "outputs": [
    {
     "name": "stdout",
     "output_type": "stream",
     "text": [
      "hello, REUBEN\n",
      "hello, REUBEN\n",
      "hello, REUBEN\n",
      "Reuben scored 82\n",
      "Faith scored 90\n",
      "Fridah scored 76\n",
      "david scored 88\n"
     ]
    }
   ],
   "source": [
    "name='REUBEN'\n",
    "for t in range (3):\n",
    "  print('hello,',name)\n",
    "\n",
    "students={'Reuben':82,'Faith':90,'Fridah':76,'david':88}\n",
    "for name, score in students.items():\n",
    "    print(f'{name} scored {score}')\n",
    "\n"
   ]
  },
  {
   "cell_type": "code",
   "execution_count": 12,
   "id": "47395dfc",
   "metadata": {},
   "outputs": [
    {
     "name": "stdout",
     "output_type": "stream",
     "text": [
      "fruit1: apple\n",
      "fruit2: banana\n",
      "fruit3: ngomoa\n",
      "lecture1: Anita\n",
      "lecture2: Arombo\n",
      "lecture3: Wyclife\n"
     ]
    }
   ],
   "source": [
    "fruits=['apple','banana','ngomoa']\n",
    "for index , fruit in enumerate (fruits):\n",
    "     print(f'fruit{index+1}: {fruit}')\n",
    "     \n",
    "lectures=['Anita','Arombo','Wyclife']\n",
    "for index,lectures in enumerate(lectures):\n",
    "     print(f'lecture{index+1}: {lectures}')"
   ]
  },
  {
   "cell_type": "code",
   "execution_count": 2,
   "id": "a8b12fa1",
   "metadata": {},
   "outputs": [
    {
     "name": "stdout",
     "output_type": "stream",
     "text": [
      "beans bag is 90 kgs\n",
      "maize bag is 78 kgs\n",
      "peas bag is 67 kgs\n"
     ]
    }
   ],
   "source": [
    "bags={'beans':90,'maize':78,'peas':67}\n",
    "for bag,mass in bags.items():\n",
    "    print(f'{bag} bag is {mass} kgs')"
   ]
  }
 ],
 "metadata": {
  "kernelspec": {
   "display_name": "Python 3",
   "language": "python",
   "name": "python3"
  },
  "language_info": {
   "codemirror_mode": {
    "name": "ipython",
    "version": 3
   },
   "file_extension": ".py",
   "mimetype": "text/x-python",
   "name": "python",
   "nbconvert_exporter": "python",
   "pygments_lexer": "ipython3",
   "version": "3.13.3"
  }
 },
 "nbformat": 4,
 "nbformat_minor": 5
}
