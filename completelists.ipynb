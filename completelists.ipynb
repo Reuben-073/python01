{
 "cells": [
  {
   "cell_type": "code",
   "execution_count": 5,
   "id": "c502d26d",
   "metadata": {},
   "outputs": [
    {
     "name": "stdout",
     "output_type": "stream",
     "text": [
      "Kalua\n",
      "Lundi\n",
      "Waita\n",
      "Ithumbi\n"
     ]
    }
   ],
   "source": [
    "# looping: for and while\n",
    "# Loop Through a List\n",
    "# You can loop through the list items by using a for loop:\n",
    "# Print all items in the list, one by one:\n",
    "\n",
    "# goods = [\"chocolate\", \"biscuits\", \"bigdaddy\", \"tropical\"]\n",
    "# for junk in goods:\n",
    "#   print(junk)\n",
    " \n",
    "compassions=['Kalua','Lundi','Waita','Ithumbi']\n",
    "for names in compassions:\n",
    "    print (names)"
   ]
  },
  {
   "cell_type": "code",
   "execution_count": 8,
   "id": "790e2311",
   "metadata": {},
   "outputs": [
    {
     "name": "stdout",
     "output_type": "stream",
     "text": [
      "0\n",
      "1\n",
      "2\n",
      "3\n",
      "0\n",
      "1\n",
      "2\n",
      "3\n",
      "4\n"
     ]
    }
   ],
   "source": [
    "# Loop Through the Index Numbers\n",
    "# # You can also loop through the list items by referring to their index number.\n",
    "# # Use the range() and len() functions to create a suitable iterable.\n",
    "\n",
    "# goods = [\"chocolate\", \"biscuits\", \"bigdaddy\", \"tropical\"]\n",
    "# for junk in range(len(goods)):\n",
    "#     print(junk)\n",
    "\n",
    "motorbikes=['Haojin','Skygo','Boxer','Dayun']\n",
    "for bikes in range(len(motorbikes)):\n",
    "    print(bikes)\n",
    "\n",
    "days=['Monday','Tuesday','Friday','sartuday','Sunday']\n",
    "for d in range(len(days)):\n",
    "    print(d)"
   ]
  },
  {
   "cell_type": "code",
   "execution_count": 20,
   "id": "a1eff457",
   "metadata": {},
   "outputs": [
    {
     "name": "stdout",
     "output_type": "stream",
     "text": [
      "Jan\n",
      "Feb\n",
      "March\n",
      "April\n",
      "May\n",
      "June\n",
      "July\n",
      "Aug\n",
      "Mettalic\n",
      "Golden\n",
      "Melamine\n",
      "Google\n",
      "Chrome\n",
      "Firefox\n",
      "Safari\n",
      "Opera\n"
     ]
    }
   ],
   "source": [
    "# while loop\n",
    "# You can loop through the list items by using a while loop.\n",
    "# Use the len() function to determine the length of the list, then start at 0 and loop your way through the list items by referring to their indexes.\n",
    "# Remember to increase the index by 1 after each iteration.\n",
    "\n",
    "# football = [\"messi\", \"ronaldo\", \"neymar\", \"mbappe\", \"salah\"]\n",
    "# arsenal = 0\n",
    "# while arsenal < len(football):\n",
    "#     print(football[arsenal])\n",
    "#     arsenal += 1\n",
    "Months=['Jan','Feb','March','April','May','June','July','Aug']\n",
    "h=0\n",
    "while h<len (Months):\n",
    "    print(Months[h])\n",
    "    h+=1\n",
    "\n",
    "cups=['Mettalic','Golden','Melamine']\n",
    "m=0\n",
    "while m< len(cups):\n",
    "    print(cups[m])\n",
    "    m+=1 \n",
    "\n",
    "Browsers=['Google','Chrome','Firefox','Safari','Opera']\n",
    "b=0\n",
    "while b<len(Browsers):\n",
    "    print(Browsers[b])\n",
    "    b+=1   \n"
   ]
  },
  {
   "cell_type": "code",
   "execution_count": null,
   "id": "16b523b4",
   "metadata": {},
   "outputs": [
    {
     "name": "stdout",
     "output_type": "stream",
     "text": [
      "google\n",
      "apple\n",
      "microsoft\n",
      "amazon\n"
     ]
    },
    {
     "data": {
      "text/plain": [
       "[None, None, None, None]"
      ]
     },
     "execution_count": 24,
     "metadata": {},
     "output_type": "execute_result"
    }
   ],
   "source": [
    "# Looping Using List Comprehension\n",
    "# List Comprehension offers the shortest syntax for looping through lists:\n",
    "companies = [\"google\", \"apple\", \"microsoft\", \"amazon\"]\n",
    "[print(company) for company in companies]\n",
    "\n",
    "\n",
    "# for company in companies:\n",
    "#     print(company)"
   ]
  },
  {
   "cell_type": "code",
   "execution_count": 21,
   "id": "aeb2737a",
   "metadata": {},
   "outputs": [
    {
     "name": "stdout",
     "output_type": "stream",
     "text": [
      "water\n",
      "soda\n",
      "spirit\n"
     ]
    },
    {
     "data": {
      "text/plain": [
       "[None, None, None]"
      ]
     },
     "execution_count": 21,
     "metadata": {},
     "output_type": "execute_result"
    }
   ],
   "source": [
    "bottle=['water','soda','spirit']\n",
    "[print(h) for h in bottle]"
   ]
  },
  {
   "cell_type": "code",
   "execution_count": null,
   "id": "c5bf2469",
   "metadata": {},
   "outputs": [],
   "source": [
    "companies = [\"google\", \"apple\", \"microsoft\", \"amazon\"]\n",
    "for company in companies:\n",
    "    print (company)"
   ]
  },
  {
   "cell_type": "code",
   "execution_count": null,
   "id": "adbb2bd3",
   "metadata": {},
   "outputs": [
    {
     "name": "stdout",
     "output_type": "stream",
     "text": [
      "apple\n",
      "banana\n",
      "cherry\n",
      "day\n",
      "month\n",
      "year\n",
      "decade\n"
     ]
    },
    {
     "data": {
      "text/plain": [
       "[None, None, None, None]"
      ]
     },
     "execution_count": 22,
     "metadata": {},
     "output_type": "execute_result"
    }
   ],
   "source": [
    "# Exercise?\n",
    "# What is a correct syntax for looping through the items of a list?\n",
    "for x in ['apple', 'banana', 'cherry']:\n",
    "  print(x)\n",
    "# [print(p)for p in ['day','month','year','decade']] shortest Method in list comprehension"
   ]
  },
  {
   "cell_type": "code",
   "execution_count": null,
   "id": "57935425",
   "metadata": {},
   "outputs": [
    {
     "name": "stdout",
     "output_type": "stream",
     "text": [
      "apple\n",
      "banana\n",
      "cherry\n"
     ]
    }
   ],
   "source": [
    "# Insert the missing part of the while loop below to loop through the items of a list.\n",
    "\n",
    "mylist = ['apple', 'banana', 'cherry']\n",
    "i = 0\n",
    "while i < len(mylist):\n",
    "  print(mylist[i])\n",
    "  # i = i + 1 same as i+=0"
   ]
  },
  {
   "cell_type": "code",
   "execution_count": 29,
   "id": "36c7962e",
   "metadata": {},
   "outputs": [
    {
     "name": "stdout",
     "output_type": "stream",
     "text": [
      "apple\n",
      "banana\n",
      "cherry\n"
     ]
    },
    {
     "data": {
      "text/plain": [
       "[None, None, None]"
      ]
     },
     "execution_count": 29,
     "metadata": {},
     "output_type": "execute_result"
    }
   ],
   "source": [
    "# What is a correct syntax for looping through the items of a list?\n",
    "\n",
    "[print(x) for x in ['apple', 'banana', 'cherry']]\n"
   ]
  },
  {
   "cell_type": "code",
   "execution_count": null,
   "id": "45412f27",
   "metadata": {},
   "outputs": [
    {
     "name": "stdout",
     "output_type": "stream",
     "text": [
      "['apple', 'banana', 'mango']\n",
      "['chem']\n"
     ]
    }
   ],
   "source": [
    "# List Comprehension\n",
    "# List comprehension is a concise way to create lists in Python.\n",
    "# List comprehension offers a shorter syntax when you want to create a new list based on the values of an existing list.\n",
    "\n",
    "# Example:\n",
    "# Based on a list of fruits, you want a new list, containing only the fruits with the letter \"a\" in the name.\n",
    "# Without list comprehension you will have to write a for statement with a conditional test inside:\n",
    "    \n",
    "# fruits = [\"apple\", \"banana\", \"cherry\", \"kiwi\", \"mango\"]\n",
    "# empty_list = []\n",
    "\n",
    "# for fruit in fruits:\n",
    "#     if \"a\" in fruit:\n",
    "#         empty_list.append(fruit)\n",
    "        \n",
    "# print(empty_list)\n",
    "\n",
    "books=['chem','phy','CRE','Geog']\n",
    "\n",
    "h=[]\n",
    "for book in books:\n",
    "    if \"c\" in book:\n",
    "       h.append(book)\n",
    "       print(h)\n"
   ]
  },
  {
   "cell_type": "code",
   "execution_count": 33,
   "id": "3a94ec73",
   "metadata": {},
   "outputs": [
    {
     "name": "stdout",
     "output_type": "stream",
     "text": [
      "Asia\n",
      "SouthAmerica\n",
      "NorthAmerica\n"
     ]
    }
   ],
   "source": [
    "continents=['Africa','Asia','SouthAmerica','NorthAmerica']\n",
    "u=[] \n",
    "for continent in continents:\n",
    "    if \"fr\" not in continent:\n",
    "        u.append(continent)\n",
    "        print (continent)\n"
   ]
  },
  {
   "cell_type": "code",
   "execution_count": 34,
   "id": "8ef04a5f",
   "metadata": {},
   "outputs": [
    {
     "name": "stdout",
     "output_type": "stream",
     "text": [
      "['apple', 'banana', 'mango']\n"
     ]
    }
   ],
   "source": [
    "# lets use list comprehension to achieve the same result:\n",
    "knownfruits = [\"apple\", \"banana\", \"cherry\", \"kiwi\", \"mango\"]\n",
    "empty_list = [fruitz for fruitz in knownfruits if \"a\" in fruitz]\n",
    "print(empty_list)\n",
    "\n",
    "# The Syntax\n",
    "# newlist = [expression for item in iterable if condition == True]\n",
    "# The return value is a new list, leaving the old list unchanged.\n"
   ]
  },
  {
   "cell_type": "code",
   "execution_count": 36,
   "id": "48410ff0",
   "metadata": {},
   "outputs": [
    {
     "name": "stdout",
     "output_type": "stream",
     "text": [
      "['banana', 'cherry', 'kiwi', 'mango']\n"
     ]
    }
   ],
   "source": [
    "# Condition\n",
    "# The condition is like a filter that only accepts the items that evaluate to True.\n",
    "\n",
    "# If the condition is not true, the item will not be included in the new list.\n",
    "newlist = [fruitz for fruitz in knownfruits if fruitz != \"apple\"]\n",
    "print(newlist)"
   ]
  },
  {
   "cell_type": "code",
   "execution_count": null,
   "id": "ebac954f",
   "metadata": {},
   "outputs": [
    {
     "name": "stdout",
     "output_type": "stream",
     "text": [
      "['Africa', 'Asia', 'NorthAmerica']\n",
      "['Africa', 'Asia', 'NorthAmerica']\n"
     ]
    }
   ],
   "source": [
    "continents=['Africa','Asia','SouthAmerica','NorthAmerica']\n",
    "k=[]\n",
    "for continent in continents:\n",
    "    if continent !=('SouthAmerica'):\n",
    "        k.append(continent)\n",
    "# print(k) see the position of print(k)\n",
    "k=[continent for continent in continents if continent!='SouthAmerica']\n",
    "\n"
   ]
  },
  {
   "cell_type": "code",
   "execution_count": null,
   "id": "844e01b1",
   "metadata": {},
   "outputs": [
    {
     "name": "stdout",
     "output_type": "stream",
     "text": [
      "['Africa']\n",
      "['Africa', 'Asia']\n",
      "['Africa', 'Asia', 'NorthAmerica']\n"
     ]
    }
   ],
   "source": [
    "continents=['Africa','Asia','SouthAmerica','NorthAmerica']\n",
    "k=[]\n",
    "for continent in continents:\n",
    "    if continent !='SouthAmerica':\n",
    "        k.append(continent)\n",
    "        # print(k) see the position of print(k)"
   ]
  },
  {
   "cell_type": "code",
   "execution_count": 37,
   "id": "45472868",
   "metadata": {},
   "outputs": [
    {
     "name": "stdout",
     "output_type": "stream",
     "text": [
      "['apple', 'banana', 'cherry', 'kiwi', 'mango']\n"
     ]
    }
   ],
   "source": [
    "# The condition is optional and can be omitted:\n",
    "anotherlist = [fruitz for fruitz in knownfruits]\n",
    "print(anotherlist)"
   ]
  },
  {
   "cell_type": "code",
   "execution_count": null,
   "id": "aae276c2",
   "metadata": {},
   "outputs": [
    {
     "name": "stdout",
     "output_type": "stream",
     "text": [
      "[0, 1, 2, 3, 4, 5, 6, 7, 8, 9]\n",
      "[0, 1, 2, 3, 4, 5, 6, 7, 8, 9]\n"
     ]
    }
   ],
   "source": [
    "# Iterable\n",
    "# The iterable can be any iterable object, like a list, tuple, set etc.\n",
    "# You can use the range() function to create an iterable:\n",
    "unknlist = [goty for goty in range(10)]\n",
    "print(unknlist)\n",
    "\n",
    "k=[]\n",
    "# for t in range(10): this is the expanded form\n",
    "    k.append(t)\n",
    "print(k)\n"
   ]
  },
  {
   "cell_type": "code",
   "execution_count": 54,
   "id": "6afaae62",
   "metadata": {},
   "outputs": [
    {
     "name": "stdout",
     "output_type": "stream",
     "text": [
      "[0, 2, 4, 6, 8]\n",
      "[0, 2, 4, 6, 8, 10, 12, 14, 16, 18]\n"
     ]
    }
   ],
   "source": [
    "unknlist = [goty for goty in range(10) if goty % 2 == 0]\n",
    "print(unknlist)\n",
    "o=[]\n",
    "for y in range(20):\n",
    "    if y % 2==0:\n",
    "     o.append(y)\n",
    "print(o)    "
   ]
  },
  {
   "cell_type": "code",
   "execution_count": 57,
   "id": "945633a5",
   "metadata": {},
   "outputs": [
    {
     "name": "stdout",
     "output_type": "stream",
     "text": [
      "old number\n"
     ]
    }
   ],
   "source": [
    "r=91\n",
    "if r % 2==0:\n",
    "    print('even number')\n",
    "else:\n",
    "    print('old number')"
   ]
  },
  {
   "cell_type": "code",
   "execution_count": 62,
   "id": "27a3e690",
   "metadata": {},
   "outputs": [
    {
     "name": "stdout",
     "output_type": "stream",
     "text": [
      "1  is old number\n",
      "3  is old number\n",
      "5  is old number\n",
      "7  is old number\n",
      "9  is old number\n",
      "11  is old number\n",
      "13  is old number\n",
      "15  is old number\n",
      "17  is old number\n",
      "19  is old number\n",
      "21  is old number\n",
      "23  is old number\n",
      "25  is old number\n",
      "27  is old number\n",
      "29  is old number\n",
      "31  is old number\n",
      "33  is old number\n",
      "35  is old number\n",
      "37  is old number\n",
      "39  is old number\n",
      "41  is old number\n",
      "43  is old number\n",
      "45  is old number\n",
      "47  is old number\n",
      "49  is old number\n"
     ]
    }
   ],
   "source": [
    "for num in range (0,51):\n",
    "    if num % 2 !=0:\n",
    "        print(f'{num}  is old number' )"
   ]
  },
  {
   "cell_type": "code",
   "execution_count": 41,
   "id": "14189347",
   "metadata": {},
   "outputs": [
    {
     "name": "stdout",
     "output_type": "stream",
     "text": [
      "['Apple', 'Banana', 'Mango']\n"
     ]
    }
   ],
   "source": [
    "# Expression\n",
    "# The expression is the current item in the iteration, but it is also the outcome, \n",
    "# which you can manipulate before it ends up like a list item in the new list:\n",
    "\n",
    "newlist = [fruitz.capitalize() for fruitz in knownfruits if \"a\" in fruitz]\n",
    "print(newlist)"
   ]
  },
  {
   "cell_type": "code",
   "execution_count": null,
   "id": "35d15cdf",
   "metadata": {},
   "outputs": [
    {
     "name": "stdout",
     "output_type": "stream",
     "text": [
      "[]\n"
     ]
    }
   ],
   "source": [
    "\n",
    "\n",
    "\n",
    "        \n",
    "\n",
    "\n"
   ]
  },
  {
   "cell_type": "code",
   "execution_count": null,
   "id": "bdcb52ec",
   "metadata": {},
   "outputs": [
    {
     "name": "stdout",
     "output_type": "stream",
     "text": [
      "['hello', 'hello', 'hello', 'hello', 'hello']\n"
     ]
    }
   ],
   "source": [
    "# You can set the outcome to whatever you like:\n",
    "anotherlist = [\"hello\" for x in range(5)] \n",
    "print(anotherlist)"
   ]
  },
  {
   "cell_type": "code",
   "execution_count": null,
   "id": "bde483d5",
   "metadata": {},
   "outputs": [
    {
     "name": "stdout",
     "output_type": "stream",
     "text": [
      "['apple', 'orange', 'cherry', 'kiwi', 'mango']\n"
     ]
    }
   ],
   "source": [
    "# The expression can also contain conditions, not like a filter, but as a way to manipulate the outcome:\n",
    "morelist = [x if x != \"banana\" else \"orange\" for x in knownfruits]\n",
    "print(morelist)\n",
    "# The expression in the example above says:\n",
    "# \"Return the item if it is not banana, if it is banana return orange\"."
   ]
  },
  {
   "cell_type": "code",
   "execution_count": 46,
   "id": "6ce749a5",
   "metadata": {},
   "outputs": [
    {
     "name": "stdout",
     "output_type": "stream",
     "text": [
      "['banana']\n"
     ]
    }
   ],
   "source": [
    "# Exercise?\n",
    "# Consider the following code:\n",
    "fruits = ['apple', 'banana', 'cherry']\n",
    "newlist = [x for x in fruits if x == 'banana']\n",
    "print(newlist)\n",
    "# What will be the value of newlist?"
   ]
  },
  {
   "cell_type": "code",
   "execution_count": 47,
   "id": "d4066dd7",
   "metadata": {},
   "outputs": [
    {
     "name": "stdout",
     "output_type": "stream",
     "text": [
      "['apple', 'banana', 'cherry']\n"
     ]
    }
   ],
   "source": [
    "# Fill in the missing parts to complete the list comprehension:\n",
    "\n",
    "fruits = [\"apple\", \"banana\", \"cherry\"]\n",
    "newlist = [x for x in fruits]\n",
    "print(newlist)"
   ]
  },
  {
   "cell_type": "code",
   "execution_count": 48,
   "id": "381eebb5",
   "metadata": {},
   "outputs": [
    {
     "name": "stdout",
     "output_type": "stream",
     "text": [
      "['apple', 'apple', 'apple']\n"
     ]
    }
   ],
   "source": [
    "# Consider the following code:\n",
    "fruits = ['apple', 'banana', 'cherry']\n",
    "newlist = ['apple' for x in fruits]\n",
    "print(newlist)\n",
    "# What will be the value of newlist?"
   ]
  }
 ],
 "metadata": {
  "kernelspec": {
   "display_name": "Python 3",
   "language": "python",
   "name": "python3"
  },
  "language_info": {
   "codemirror_mode": {
    "name": "ipython",
    "version": 3
   },
   "file_extension": ".py",
   "mimetype": "text/x-python",
   "name": "python",
   "nbconvert_exporter": "python",
   "pygments_lexer": "ipython3",
   "version": "3.13.3"
  }
 },
 "nbformat": 4,
 "nbformat_minor": 5
}
