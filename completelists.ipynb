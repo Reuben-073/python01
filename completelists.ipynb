{
 "cells": [
  {
   "cell_type": "code",
   "execution_count": 4,
   "id": "c502d26d",
   "metadata": {},
   "outputs": [
    {
     "name": "stdout",
     "output_type": "stream",
     "text": [
      "chocolate\n",
      "biscuits\n",
      "bigdaddy\n",
      "tropical\n"
     ]
    }
   ],
   "source": [
    "# looping: for and while\n",
    "# Loop Through a List\n",
    "# You can loop through the list items by using a for loop:\n",
    "# Print all items in the list, one by one:\n",
    "\n",
    "goods = [\"chocolate\", \"biscuits\", \"bigdaddy\", \"tropical\"]\n",
    "for junk in goods:\n",
    "  print(junk)"
   ]
  },
  {
   "cell_type": "code",
   "execution_count": 3,
   "id": "790e2311",
   "metadata": {},
   "outputs": [
    {
     "name": "stdout",
     "output_type": "stream",
     "text": [
      "0\n",
      "1\n",
      "2\n",
      "3\n"
     ]
    }
   ],
   "source": [
    "# Loop Through the Index Numbers\n",
    "# You can also loop through the list items by referring to their index number.\n",
    "# Use the range() and len() functions to create a suitable iterable.\n",
    "\n",
    "goods = [\"chocolate\", \"biscuits\", \"bigdaddy\", \"tropical\"]\n",
    "for junk in range(len(goods)):\n",
    "    print(junk)"
   ]
  },
  {
   "cell_type": "code",
   "execution_count": null,
   "id": "a1eff457",
   "metadata": {},
   "outputs": [
    {
     "name": "stdout",
     "output_type": "stream",
     "text": [
      "messi\n",
      "ronaldo\n",
      "neymar\n",
      "mbappe\n",
      "salah\n"
     ]
    }
   ],
   "source": [
    "# while loop\n",
    "# You can loop through the list items by using a while loop.\n",
    "# Use the len() function to determine the length of the list, then start at 0 and loop your way through the list items by referring to their indexes.\n",
    "# Remember to increase the index by 1 after each iteration.\n",
    "\n",
    "football = [\"messi\", \"ronaldo\", \"neymar\", \"mbappe\", \"salah\"]\n",
    "arsenal = 0\n",
    "while arsenal < len(football):\n",
    "    print(football[arsenal])\n",
    "    arsenal += 1"
   ]
  },
  {
   "cell_type": "code",
   "execution_count": null,
   "id": "16b523b4",
   "metadata": {},
   "outputs": [
    {
     "name": "stdout",
     "output_type": "stream",
     "text": [
      "google\n",
      "apple\n",
      "microsoft\n",
      "amazon\n"
     ]
    },
    {
     "data": {
      "text/plain": [
       "[None, None, None, None]"
      ]
     },
     "execution_count": 24,
     "metadata": {},
     "output_type": "execute_result"
    }
   ],
   "source": [
    "# Looping Using List Comprehension\n",
    "# List Comprehension offers the shortest syntax for looping through lists:\n",
    "companies = [\"google\", \"apple\", \"microsoft\", \"amazon\"]\n",
    "[print(company) for company in companies]\n",
    "\n",
    "# for company in companies:\n",
    "#     print(company)"
   ]
  },
  {
   "cell_type": "code",
   "execution_count": null,
   "id": "adbb2bd3",
   "metadata": {},
   "outputs": [
    {
     "name": "stdout",
     "output_type": "stream",
     "text": [
      "apple\n",
      "banana\n",
      "cherry\n"
     ]
    }
   ],
   "source": [
    "# Exercise?\n",
    "# What is a correct syntax for looping through the items of a list?\n",
    "for x in ['apple', 'banana', 'cherry']:\n",
    "  print(x)"
   ]
  },
  {
   "cell_type": "code",
   "execution_count": 28,
   "id": "57935425",
   "metadata": {},
   "outputs": [
    {
     "name": "stdout",
     "output_type": "stream",
     "text": [
      "apple\n",
      "banana\n",
      "cherry\n"
     ]
    }
   ],
   "source": [
    "# Insert the missing part of the while loop below to loop through the items of a list.\n",
    "\n",
    "mylist = ['apple', 'banana', 'cherry']\n",
    "i = 0\n",
    "while i < len(mylist):\n",
    "  print(mylist[i])\n",
    "  i = i + 1"
   ]
  },
  {
   "cell_type": "code",
   "execution_count": 29,
   "id": "36c7962e",
   "metadata": {},
   "outputs": [
    {
     "name": "stdout",
     "output_type": "stream",
     "text": [
      "apple\n",
      "banana\n",
      "cherry\n"
     ]
    },
    {
     "data": {
      "text/plain": [
       "[None, None, None]"
      ]
     },
     "execution_count": 29,
     "metadata": {},
     "output_type": "execute_result"
    }
   ],
   "source": [
    "# What is a correct syntax for looping through the items of a list?\n",
    "\n",
    "[print(x) for x in ['apple', 'banana', 'cherry']]\n"
   ]
  },
  {
   "cell_type": "code",
   "execution_count": 31,
   "id": "45412f27",
   "metadata": {},
   "outputs": [
    {
     "name": "stdout",
     "output_type": "stream",
     "text": [
      "['apple', 'banana', 'mango']\n"
     ]
    }
   ],
   "source": [
    "# List Comprehension\n",
    "# List comprehension is a concise way to create lists in Python.\n",
    "# List comprehension offers a shorter syntax when you want to create a new list based on the values of an existing list.\n",
    "\n",
    "# Example:\n",
    "# Based on a list of fruits, you want a new list, containing only the fruits with the letter \"a\" in the name.\n",
    "# Without list comprehension you will have to write a for statement with a conditional test inside:\n",
    "    \n",
    "fruits = [\"apple\", \"banana\", \"cherry\", \"kiwi\", \"mango\"]\n",
    "empty_list = []\n",
    "\n",
    "for fruit in fruits:\n",
    "    if \"a\" in fruit:\n",
    "        empty_list.append(fruit)\n",
    "        \n",
    "print(empty_list)"
   ]
  },
  {
   "cell_type": "code",
   "execution_count": 34,
   "id": "8ef04a5f",
   "metadata": {},
   "outputs": [
    {
     "name": "stdout",
     "output_type": "stream",
     "text": [
      "['apple', 'banana', 'mango']\n"
     ]
    }
   ],
   "source": [
    "# lets use list comprehension to achieve the same result:\n",
    "knownfruits = [\"apple\", \"banana\", \"cherry\", \"kiwi\", \"mango\"]\n",
    "empty_list = [fruitz for fruitz in knownfruits if \"a\" in fruitz]\n",
    "print(empty_list)\n",
    "\n",
    "# The Syntax\n",
    "# newlist = [expression for item in iterable if condition == True]\n",
    "# The return value is a new list, leaving the old list unchanged.\n"
   ]
  },
  {
   "cell_type": "code",
   "execution_count": 36,
   "id": "48410ff0",
   "metadata": {},
   "outputs": [
    {
     "name": "stdout",
     "output_type": "stream",
     "text": [
      "['banana', 'cherry', 'kiwi', 'mango']\n"
     ]
    }
   ],
   "source": [
    "# Condition\n",
    "# The condition is like a filter that only accepts the items that evaluate to True.\n",
    "\n",
    "# If the condition is not true, the item will not be included in the new list.\n",
    "newlist = [fruitz for fruitz in knownfruits if fruitz != \"apple\"]\n",
    "print(newlist)"
   ]
  },
  {
   "cell_type": "code",
   "execution_count": 37,
   "id": "45472868",
   "metadata": {},
   "outputs": [
    {
     "name": "stdout",
     "output_type": "stream",
     "text": [
      "['apple', 'banana', 'cherry', 'kiwi', 'mango']\n"
     ]
    }
   ],
   "source": [
    "# The condition is optional and can be omitted:\n",
    "anotherlist = [fruitz for fruitz in knownfruits]\n",
    "print(anotherlist)"
   ]
  },
  {
   "cell_type": "code",
   "execution_count": 38,
   "id": "aae276c2",
   "metadata": {},
   "outputs": [
    {
     "name": "stdout",
     "output_type": "stream",
     "text": [
      "[0, 1, 2, 3, 4, 5, 6, 7, 8, 9]\n"
     ]
    }
   ],
   "source": [
    "# Iterable\n",
    "# The iterable can be any iterable object, like a list, tuple, set etc.\n",
    "# You can use the range() function to create an iterable:\n",
    "unknlist = [goty for goty in range(10)]\n",
    "print(unknlist)"
   ]
  },
  {
   "cell_type": "code",
   "execution_count": 39,
   "id": "6afaae62",
   "metadata": {},
   "outputs": [
    {
     "name": "stdout",
     "output_type": "stream",
     "text": [
      "[0, 2, 4, 6, 8]\n"
     ]
    }
   ],
   "source": [
    "unknlist = [goty for goty in range(10) if goty % 2 == 0]\n",
    "print(unknlist)"
   ]
  },
  {
   "cell_type": "code",
   "execution_count": 41,
   "id": "14189347",
   "metadata": {},
   "outputs": [
    {
     "name": "stdout",
     "output_type": "stream",
     "text": [
      "['Apple', 'Banana', 'Mango']\n"
     ]
    }
   ],
   "source": [
    "# Expression\n",
    "# The expression is the current item in the iteration, but it is also the outcome, \n",
    "# which you can manipulate before it ends up like a list item in the new list:\n",
    "\n",
    "newlist = [fruitz.capitalize() for fruitz in knownfruits if \"a\" in fruitz]\n",
    "print(newlist)"
   ]
  },
  {
   "cell_type": "code",
   "execution_count": null,
   "id": "bdcb52ec",
   "metadata": {},
   "outputs": [
    {
     "name": "stdout",
     "output_type": "stream",
     "text": [
      "['hello', 'hello', 'hello', 'hello', 'hello']\n"
     ]
    }
   ],
   "source": [
    "# You can set the outcome to whatever you like:\n",
    "anotherlist = [\"hello\" for x in range(5)] \n",
    "print(anotherlist)"
   ]
  },
  {
   "cell_type": "code",
   "execution_count": null,
   "id": "bde483d5",
   "metadata": {},
   "outputs": [
    {
     "name": "stdout",
     "output_type": "stream",
     "text": [
      "['apple', 'orange', 'cherry', 'kiwi', 'mango']\n"
     ]
    }
   ],
   "source": [
    "# The expression can also contain conditions, not like a filter, but as a way to manipulate the outcome:\n",
    "morelist = [x if x != \"banana\" else \"orange\" for x in knownfruits]\n",
    "print(morelist)\n",
    "# The expression in the example above says:\n",
    "# \"Return the item if it is not banana, if it is banana return orange\"."
   ]
  },
  {
   "cell_type": "code",
   "execution_count": 46,
   "id": "6ce749a5",
   "metadata": {},
   "outputs": [
    {
     "name": "stdout",
     "output_type": "stream",
     "text": [
      "['banana']\n"
     ]
    }
   ],
   "source": [
    "# Exercise?\n",
    "# Consider the following code:\n",
    "fruits = ['apple', 'banana', 'cherry']\n",
    "newlist = [x for x in fruits if x == 'banana']\n",
    "print(newlist)\n",
    "# What will be the value of newlist?"
   ]
  },
  {
   "cell_type": "code",
   "execution_count": 47,
   "id": "d4066dd7",
   "metadata": {},
   "outputs": [
    {
     "name": "stdout",
     "output_type": "stream",
     "text": [
      "['apple', 'banana', 'cherry']\n"
     ]
    }
   ],
   "source": [
    "# Fill in the missing parts to complete the list comprehension:\n",
    "\n",
    "fruits = [\"apple\", \"banana\", \"cherry\"]\n",
    "newlist = [x for x in fruits]\n",
    "print(newlist)"
   ]
  },
  {
   "cell_type": "code",
   "execution_count": 48,
   "id": "381eebb5",
   "metadata": {},
   "outputs": [
    {
     "name": "stdout",
     "output_type": "stream",
     "text": [
      "['apple', 'apple', 'apple']\n"
     ]
    }
   ],
   "source": [
    "# Consider the following code:\n",
    "fruits = ['apple', 'banana', 'cherry']\n",
    "newlist = ['apple' for x in fruits]\n",
    "print(newlist)\n",
    "# What will be the value of newlist?"
   ]
  }
 ],
 "metadata": {
  "kernelspec": {
   "display_name": "Python 3",
   "language": "python",
   "name": "python3"
  },
  "language_info": {
   "codemirror_mode": {
    "name": "ipython",
    "version": 3
   },
   "file_extension": ".py",
   "mimetype": "text/x-python",
   "name": "python",
   "nbconvert_exporter": "python",
   "pygments_lexer": "ipython3",
   "version": "3.13.1"
  }
 },
 "nbformat": 4,
 "nbformat_minor": 5
}
