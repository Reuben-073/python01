{
 "cells": [
  {
   "cell_type": "code",
   "execution_count": 4,
   "id": "7ff35aef",
   "metadata": {},
   "outputs": [
    {
     "name": "stdout",
     "output_type": "stream",
     "text": [
      "we harvested more mangoes, kiwi and ngomoa this season.\n",
      "more girls than boys\n",
      "more young than elders\n"
     ]
    }
   ],
   "source": [
    "apples = 73\n",
    "kiwi = 99\n",
    "ngomoa =43\n",
    "mangoes = 67\n",
    "\n",
    "if [mangoes+kiwi+ngomoa]>[apples]:\n",
    "    print(\"we harvested more mangoes, kiwi and ngomoa this season.\")\n",
    "else:\n",
    "    print(\"The harvest of apples was good this season.\")\n",
    "boys=98\n",
    "girls=100\n",
    "if[boys]>[girls]:\n",
    "    print ('more girls than boys')\n",
    "else:\n",
    "    print('more girls than boys') \n",
    "y=35\n",
    "p=76\n",
    "if [y]>[p]:\n",
    "    print('more elders than young')\n",
    "else:\n",
    "    print('more young than elders')     "
   ]
  },
  {
   "cell_type": "code",
   "execution_count": 6,
   "id": "229d1fff",
   "metadata": {},
   "outputs": [
    {
     "name": "stdout",
     "output_type": "stream",
     "text": [
      "True\n",
      "True\n",
      "True\n"
     ]
    }
   ],
   "source": [
    "print(bool(\"hello\"))\n",
    "print(bool('Reuben'))\n",
    "print(bool('Faith'))"
   ]
  },
  {
   "cell_type": "code",
   "execution_count": 8,
   "id": "525550e2",
   "metadata": {},
   "outputs": [
    {
     "name": "stdout",
     "output_type": "stream",
     "text": [
      "True\n",
      "True\n",
      "True\n"
     ]
    }
   ],
   "source": [
    "x = \"Hello\"\n",
    "y = 15\n",
    "vb=764\n",
    "bv='JACXKSON' \n",
    "print(bool(vb))\n",
    "\n",
    "print(bool(x))\n",
    "print(bool(y))"
   ]
  },
  {
   "cell_type": "code",
   "execution_count": null,
   "id": "e9eea891",
   "metadata": {},
   "outputs": [
    {
     "name": "stdout",
     "output_type": "stream",
     "text": [
      "True\n",
      "False\n"
     ]
    }
   ],
   "source": [
    "print(bool(\"hello\"))\n",
    "# empty/null\n",
    "print(bool(''))"
   ]
  },
  {
   "cell_type": "code",
   "execution_count": 10,
   "id": "f4de1fe8",
   "metadata": {},
   "outputs": [
    {
     "name": "stdout",
     "output_type": "stream",
     "text": [
      "True\n",
      "False\n",
      "False\n",
      "False\n"
     ]
    }
   ],
   "source": [
    "#0 0r empty bracket is printed as 'false' in boolean data type\n",
    "print(bool(56))\n",
    "# Null/None\n",
    "print(bool(0))\n",
    "print(bool())\n",
    "print(bool(0))"
   ]
  },
  {
   "cell_type": "code",
   "execution_count": 11,
   "id": "c9d69854",
   "metadata": {},
   "outputs": [
    {
     "name": "stdout",
     "output_type": "stream",
     "text": [
      "True\n",
      "False\n",
      "True\n",
      "schools\n"
     ]
    }
   ],
   "source": [
    "fruits=[\"apple\", \"cherry\", \"ngomoa\"]\n",
    "print(bool(fruits))\n",
    "# empty/null\n",
    "houses=[]\n",
    "print(bool(houses))\n",
    "subject=('chem','phy','maths')\n",
    "schools=()\n",
    "print(bool('subjects'))\n",
    "print('schools')"
   ]
  },
  {
   "cell_type": "code",
   "execution_count": 12,
   "id": "41f0a643",
   "metadata": {},
   "outputs": [
    {
     "name": "stdout",
     "output_type": "stream",
     "text": [
      "False\n"
     ]
    }
   ],
   "source": [
    "print(bool(None))"
   ]
  },
  {
   "cell_type": "code",
   "execution_count": 13,
   "id": "b1e11211",
   "metadata": {},
   "outputs": [
    {
     "name": "stdout",
     "output_type": "stream",
     "text": [
      "False\n"
     ]
    }
   ],
   "source": [
    "class myclass():\n",
    "  def __len__(self):\n",
    "    return 0\n",
    "\n",
    "myobj = myclass()\n",
    "print(bool(myobj))"
   ]
  },
  {
   "cell_type": "code",
   "execution_count": 14,
   "id": "96263251",
   "metadata": {},
   "outputs": [
    {
     "name": "stdout",
     "output_type": "stream",
     "text": [
      "0\n"
     ]
    }
   ],
   "source": [
    "print((6 + 3) - (6 + 3))"
   ]
  },
  {
   "cell_type": "code",
   "execution_count": 12,
   "id": "4a86d47c",
   "metadata": {},
   "outputs": [
    {
     "name": "stdout",
     "output_type": "stream",
     "text": [
      "115\n"
     ]
    }
   ],
   "source": [
    "print(100 + 5 * 3)"
   ]
  },
  {
   "cell_type": "code",
   "execution_count": 16,
   "id": "b9dba762",
   "metadata": {},
   "outputs": [
    {
     "name": "stdout",
     "output_type": "stream",
     "text": [
      "8\n"
     ]
    }
   ],
   "source": [
    "# What will be the result of the following syntax:\n",
    "x = 5\n",
    "x += 3\n",
    "print(x)\n",
    "# 3\n",
    "# 5\n",
    "# 8"
   ]
  },
  {
   "cell_type": "code",
   "execution_count": null,
   "id": "f36ecf0b",
   "metadata": {},
   "outputs": [
    {
     "name": "stdout",
     "output_type": "stream",
     "text": [
      "50\n",
      "50\n"
     ]
    }
   ],
   "source": [
    "# Multiply 10 with 5, and print the result.\n",
    "y = 10 * 5\n",
    "print(y)\n",
    "# print(10*5)"
   ]
  },
  {
   "cell_type": "code",
   "execution_count": null,
   "id": "bdc4ac39",
   "metadata": {},
   "outputs": [
    {
     "name": "stdout",
     "output_type": "stream",
     "text": [
      "5\n"
     ]
    }
   ],
   "source": [
    "# Divide 10 by 2, and print the result.\n",
    "# 5.0 is float, 5 is integer\n",
    "print(10//2)"
   ]
  },
  {
   "cell_type": "code",
   "execution_count": 15,
   "id": "27a54012",
   "metadata": {},
   "outputs": [
    {
     "name": "stdout",
     "output_type": "stream",
     "text": [
      "Yes, apple is a fruit!\n",
      "handsome\n"
     ]
    }
   ],
   "source": [
    "# Use the correct membership operator to check if \"apple\" \n",
    "# is present in the fruits object/var.\n",
    "\n",
    "fruits = [\"apple\", \"banana\"]\n",
    "if \"apple\" in fruits:\n",
    "  print(\"Yes, apple is a fruit!\")\n",
    "names=['Reuben','Maingi','jack','Wambiru']\n",
    "if 'Reuben' in (names):\n",
    "  print(\"handsome\")\n",
    "else:\n",
    "  print('beatiful') "
   ]
  },
  {
   "cell_type": "code",
   "execution_count": null,
   "id": "ca20a681",
   "metadata": {},
   "outputs": [
    {
     "name": "stdout",
     "output_type": "stream",
     "text": [
      "5 is not equal to 10\n"
     ]
    }
   ],
   "source": [
    "# Use the correct comparison operator to check if 5 is not equal to 10.\n",
    "# ! this is not = this is equal to != not equal to\n",
    "\n",
    "if 5 != 10:\n",
    "  print(\"5 and 10 is not equal\")"
   ]
  },
  {
   "cell_type": "code",
   "execution_count": null,
   "id": "4e568d5a",
   "metadata": {},
   "outputs": [
    {
     "name": "stdout",
     "output_type": "stream",
     "text": [
      "At least one of the statements is true\n",
      "print atleast one of the statement is true\n"
     ]
    }
   ],
   "source": [
    "# Use the correct logical operator to check if at least one of two statements is True.\n",
    "# logical operators = or, and , not\n",
    "\n",
    "if 5 == 10 or 4 == 4:\n",
    "  print(\"At least one of the statements is true\")\n",
    "if 78==45 or 67==67:\n",
    "  print(' atleast one of the statement is true')"
   ]
  },
  {
   "cell_type": "code",
   "execution_count": 20,
   "id": "20ec4ddd",
   "metadata": {},
   "outputs": [
    {
     "name": "stdout",
     "output_type": "stream",
     "text": [
      "['cup', 'plate', 'spoon', 'fork']\n",
      "['mercedez', 'toyota', 'isuzu']\n"
     ]
    }
   ],
   "source": [
    "this_is_a_list = [\"cup\", \"plate\", \"spoon\", \"fork\"]\n",
    "print(this_is_a_list)\n",
    "these_are_cars=['mercedez','toyota','isuzu']\n",
    "print(these_are_cars)"
   ]
  },
  {
   "cell_type": "code",
   "execution_count": 24,
   "id": "12d963d4",
   "metadata": {},
   "outputs": [
    {
     "name": "stdout",
     "output_type": "stream",
     "text": [
      "['apple', 'banana', 'cherry', 'apple', 'cherry', 'banana']\n",
      "6\n",
      "5\n"
     ]
    }
   ],
   "source": [
    "thislist = [\"apple\", \"banana\", \"cherry\", \"apple\", \"cherry\", \"banana\"]\n",
    "print(thislist)\n",
    "print(len(thislist))\n",
    "fruits=['apples','kiwi','pineapple','paper','watermelon']\n",
    "print(len(fruits))"
   ]
  },
  {
   "cell_type": "code",
   "execution_count": null,
   "id": "471ed94e",
   "metadata": {},
   "outputs": [
    {
     "name": "stdout",
     "output_type": "stream",
     "text": [
      "{False, True, 'list', 'number', 14}\n",
      "<class 'set'>\n"
     ]
    }
   ],
   "source": [
    "mixed_list=[\"list\", True, 14, \"number\", False]\n",
    "\n",
    "print(mixed_list)\n",
    "# type\n",
    "print(type(mixed_list))"
   ]
  },
  {
   "cell_type": "code",
   "execution_count": 36,
   "id": "0eb49123",
   "metadata": {},
   "outputs": [
    {
     "name": "stdout",
     "output_type": "stream",
     "text": [
      "['apple', 'banana', 'cherry']\n",
      "['Kamau', 'Njoroge', 'James']\n"
     ]
    }
   ],
   "source": [
    "# list()\n",
    "#you can use this to convert the tuple list to list\n",
    "thelist = list((\"apple\", \"banana\", \"cherry\"))\n",
    "print(thelist)\n",
    "names=list(('Kamau','Njoroge','James'))\n",
    "print(names)"
   ]
  },
  {
   "cell_type": "code",
   "execution_count": 38,
   "id": "07ef0e36",
   "metadata": {},
   "outputs": [
    {
     "name": "stdout",
     "output_type": "stream",
     "text": [
      "banana\n",
      "VOI\n"
     ]
    }
   ],
   "source": [
    "# What will be the result of the following syntax:\n",
    "mylist = ['apple', 'banana', 'cherry']\n",
    "print(mylist[1])\n",
    "schools=['KINGS','MOI','VOI']\n",
    "print(schools[2])"
   ]
  },
  {
   "cell_type": "code",
   "execution_count": null,
   "id": "7f6210e4",
   "metadata": {},
   "outputs": [],
   "source": [
    "# True or False.\n",
    "# List items cannot be removed after the list has been created.\n",
    "\n",
    "# False"
   ]
  },
  {
   "cell_type": "code",
   "execution_count": 14,
   "id": "a0c7a34d",
   "metadata": {},
   "outputs": [
    {
     "name": "stdout",
     "output_type": "stream",
     "text": [
      "3\n"
     ]
    }
   ],
   "source": [
    "# Select the correct function for returning the number of items in a list:\n",
    "\n",
    "thislist = ['apple', 'banana', 'cherry']\n",
    "print(len(thislist))"
   ]
  },
  {
   "cell_type": "code",
   "execution_count": null,
   "id": "15b4c8d2",
   "metadata": {},
   "outputs": [],
   "source": []
  },
  {
   "cell_type": "code",
   "execution_count": 1,
   "id": "f9b930e5",
   "metadata": {},
   "outputs": [
    {
     "data": {
      "text/plain": [
       "False"
      ]
     },
     "execution_count": 1,
     "metadata": {},
     "output_type": "execute_result"
    }
   ],
   "source": [
    "8.9 == 7.9"
   ]
  }
 ],
 "metadata": {
  "kernelspec": {
   "display_name": "Python 3",
   "language": "python",
   "name": "python3"
  },
  "language_info": {
   "codemirror_mode": {
    "name": "ipython",
    "version": 3
   },
   "file_extension": ".py",
   "mimetype": "text/x-python",
   "name": "python",
   "nbconvert_exporter": "python",
   "pygments_lexer": "ipython3",
   "version": "3.13.3"
  }
 },
 "nbformat": 4,
 "nbformat_minor": 5
}
